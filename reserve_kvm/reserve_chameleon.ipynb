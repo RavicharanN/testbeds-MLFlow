{
 "cells": [
  {
   "cell_type": "markdown",
   "metadata": {
    "tags": []
   },
   "source": [
    "## Reserve and configure resources on KVM"
   ]
  },
  {
   "cell_type": "markdown",
   "metadata": {},
   "source": [
    "Before you run this experiment, you will:\n",
    "\n",
    "-   define the specific configuration of resources you need.\n",
    "-   “instantiate” an experiment with your reserved resources.\n",
    "-   wait for your resources to be configured.\n",
    "-   log in to resources to carry out the experiment.\n",
    "\n",
    "This exercise will guide you through those steps."
   ]
  },
  {
   "cell_type": "markdown",
   "metadata": {},
   "source": [
    "### Configure environment"
   ]
  },
  {
   "cell_type": "code",
   "execution_count": 2,
   "metadata": {
    "tags": []
   },
   "outputs": [],
   "source": [
    "import openstack, chi, chi.ssh, chi.network, chi.server, os"
   ]
  },
  {
   "cell_type": "markdown",
   "metadata": {},
   "source": [
    "In this section, we configure the Chameleon Python client.\n",
    "\n",
    "For this experiment, we’re going to use the KVM@TACC site, which we indicate below.\n",
    "\n",
    "We also need to specify the name of the Chameleon “project” that this experiment is part of. The project name will have the format “CHI-XXXXXX”, where the last part is a 6-digit number, and you can find it on your [user dashboard](https://chameleoncloud.org/user/dashboard/)."
   ]
  },
  {
   "cell_type": "markdown",
   "metadata": {},
   "source": [
    "In the cell below, replace the project ID with your own project ID, then run the cell."
   ]
  },
  {
   "cell_type": "code",
   "execution_count": 3,
   "metadata": {
    "tags": []
   },
   "outputs": [
    {
     "name": "stdout",
     "output_type": "stream",
     "text": [
      "Now using KVM@TACC:\n",
      "URL: https://kvm.tacc.chameleoncloud.org\n",
      "Location: Austin, Texas, USA\n",
      "Support contact: help@chameleoncloud.org\n"
     ]
    }
   ],
   "source": [
    "chi.use_site(\"KVM@TACC\")\n",
    "PROJECT_NAME = \"CHI-231138\"\n",
    "chi.set(\"project_name\", PROJECT_NAME)\n",
    "\n",
    "# configure openstacksdk for actions unsupported by python-chi\n",
    "os_conn = chi.clients.connection()\n"
   ]
  },
  {
   "cell_type": "markdown",
   "metadata": {},
   "source": [
    "### Define configuration for this experiment (3 VMs)"
   ]
  },
  {
   "cell_type": "markdown",
   "metadata": {},
   "source": [
    "For this specific experiment, we will need four virtual machines connected to a common network. Each of the virtual machines will be of the `m1.medium` type, with 4 VCPUs, 8 GB memory, 40 GB disk space.\n",
    "\n",
    "* Node-0 will be used to run the MLFlow tracking server\n",
    "* Node-1 will be used to deploy the postgres database to to server as the parameter store \n",
    "* Node-2 will be used as the model registry using MiniIO as the artifact store."
   ]
  },
  {
   "cell_type": "code",
   "execution_count": 5,
   "metadata": {
    "tags": []
   },
   "outputs": [],
   "source": [
    "username = os.getenv('USER')\n",
    "\n",
    "node_conf = [\n",
    " {'name': \"node-0\",  'flavor': 'm1.medium', 'image': 'CC-Ubuntu22.04', 'packages': [\"virtualenv\"], 'bastion': True}, \n",
    " {'name': \"node-1\",  'flavor': 'm1.medium', 'image': 'CC-Ubuntu22.04', 'packages': [\"virtualenv\", \"docker-compose\"], 'bastion': False},\n",
    " {'name': \"node-2\",  'flavor': 'm1.medium', 'image': 'CC-Ubuntu22.04', 'packages': [\"virtualenv\", \"docker-compose\"], 'bastion': False}\n",
    "]\n",
    "net_conf = [\n",
    " {\"name\": \"net0\", \"subnet\": \"192.168.1.0/24\", \"nodes\": [{\"name\": \"node-0\",   \"addr\": \"192.168.1.10\"}, {\"name\": \"node-1\", \"addr\": \"192.168.1.11\"}, {\"name\": \"node-2\", \"addr\": \"192.168.1.12\"}]},\n",
    "]\n",
    "route_conf = []"
   ]
  },
  {
   "cell_type": "markdown",
   "metadata": {},
   "source": [
    "### Configure resources\n",
    "\n",
    "Now, we will prepare the VMs and network links that our experiment requires."
   ]
  },
  {
   "cell_type": "markdown",
   "metadata": {},
   "source": [
    "First, we will prepare a “public” network that we will use for SSH access to our VMs -"
   ]
  },
  {
   "cell_type": "code",
   "execution_count": 6,
   "metadata": {
    "tags": []
   },
   "outputs": [],
   "source": [
    "public_net = os_conn.network.create_network(name=\"public_net_\" + username)\n",
    "public_net_id = public_net.get(\"id\")\n",
    "public_subnet = os_conn.network.create_subnet(\n",
    "    name=\"public_subnet_\" + username,\n",
    "    network_id=public_net.get(\"id\"),\n",
    "    ip_version='4',\n",
    "    cidr=\"192.168.10.0/24\",\n",
    "    gateway_ip=\"192.168.10.1\",\n",
    "    is_dhcp_enabled = True\n",
    ")"
   ]
  },
  {
   "cell_type": "markdown",
   "metadata": {},
   "source": [
    "Next, we will prepare the “experiment” networks -"
   ]
  },
  {
   "cell_type": "code",
   "execution_count": 7,
   "metadata": {
    "tags": []
   },
   "outputs": [],
   "source": [
    "nets = []\n",
    "net_ids = []\n",
    "subnets = []\n",
    "for n in net_conf:\n",
    "    exp_net = os_conn.network.create_network(name=\"exp_\" + n['name']  + '_' + username)\n",
    "    exp_net_id = exp_net.get(\"id\")\n",
    "    os_conn.network.update_network(exp_net, is_port_security_enabled=False)\n",
    "    exp_subnet = os_conn.network.create_subnet(\n",
    "        name=\"exp_subnet_\" + n['name']  + '_' + username,\n",
    "        network_id=exp_net.get(\"id\"),\n",
    "        ip_version='4',\n",
    "        cidr=n['subnet'],\n",
    "        gateway_ip=None,\n",
    "        is_dhcp_enabled = True\n",
    "    )\n",
    "    nets.append(exp_net)\n",
    "    net_ids.append(exp_net_id)\n",
    "    subnets.append(exp_subnet)"
   ]
  },
  {
   "cell_type": "markdown",
   "metadata": {},
   "source": [
    "Now we create the VMs -"
   ]
  },
  {
   "cell_type": "code",
   "execution_count": 8,
   "metadata": {
    "tags": []
   },
   "outputs": [],
   "source": [
    "servers = []\n",
    "server_ids = []\n",
    "for i, n in enumerate(node_conf, start=10):\n",
    "    image_uuid = os_conn.image.find_image(n['image']).id\n",
    "    flavor_uuid = os_conn.compute.find_flavor(n['flavor']).id\n",
    "    # find out details of exp interface(s)\n",
    "    nics = [{'net-id': chi.network.get_network_id( \"exp_\" + net['name']  + '_' + username ), 'v4-fixed-ip': node['addr']} for net in net_conf for node in net['nodes'] if node['name']==n['name']]\n",
    "    # also include a public network interface\n",
    "    nics.insert(0, {\"net-id\": public_net_id, \"v4-fixed-ip\":\"192.168.10.\" + str(i)})\n",
    "    server = chi.server.create_server(\n",
    "        server_name=n['name'] + \"_\" + username,\n",
    "        image_id=image_uuid,\n",
    "        flavor_id=flavor_uuid,\n",
    "        nics=nics\n",
    "    )\n",
    "    servers.append(server)\n",
    "    server_ids.append(chi.server.get_server(n['name'] + \"_\" + username).id)"
   ]
  },
  {
   "cell_type": "markdown",
   "metadata": {},
   "source": [
    "We wait for all servers to come up before we proceed -"
   ]
  },
  {
   "cell_type": "code",
   "execution_count": 9,
   "metadata": {
    "tags": []
   },
   "outputs": [],
   "source": [
    "for server_id in server_ids:\n",
    "    chi.server.wait_for_active(server_id)"
   ]
  },
  {
   "cell_type": "markdown",
   "metadata": {},
   "source": [
    "Next, we will set up SSH access to the VMs.\n",
    "\n",
    "First, we will make sure the “public” network is connected to the Internet. Then, we will configure it to permit SSH access on port 22 for each port connected to this network."
   ]
  },
  {
   "cell_type": "code",
   "execution_count": 10,
   "metadata": {
    "tags": []
   },
   "outputs": [
    {
     "data": {
      "text/plain": [
       "{'network_id': '77a12e69-c5a7-4e20-a311-c39282c7696a',\n",
       " 'tenant_id': '13a1ac1ce275484caedc3394339486a1',\n",
       " 'subnet_id': '9eb5dd37-daa4-46cf-a771-c316589b0880',\n",
       " 'subnet_ids': ['9eb5dd37-daa4-46cf-a771-c316589b0880'],\n",
       " 'port_id': '95cf6211-480b-4b06-8a19-1b7a12a1060d',\n",
       " 'id': '33a42c9e-77c5-460a-9626-dee0e193a2bd'}"
      ]
     },
     "execution_count": 10,
     "metadata": {},
     "output_type": "execute_result"
    }
   ],
   "source": [
    "# connect them to the Internet on the \"public\" network (e.g. for software installation)\n",
    "router = chi.network.create_router('inet_router_' + username, gw_network_name='public')\n",
    "chi.network.add_subnet_to_router(router.get(\"id\"), public_subnet.get(\"id\"))"
   ]
  },
  {
   "cell_type": "code",
   "execution_count": 11,
   "metadata": {
    "tags": []
   },
   "outputs": [],
   "source": [
    "# prepare SSH access on the servers that serve in \"bastion\" role\n",
    "# WARNING: this relies on undocumented behavior of associate_floating_ip \n",
    "# that it associates the IP with the first port on the server\n",
    "server_ips = [\"129.114.27.11\"]\n",
    "# for i, n in enumerate(node_conf):\n",
    "#     if 'bastion' in n and n['bastion']:\n",
    "#         ip = chi.server.associate_floating_ip(server_ids[i])\n",
    "#         server_ips.append(ip)"
   ]
  },
  {
   "cell_type": "code",
   "execution_count": 12,
   "metadata": {
    "tags": []
   },
   "outputs": [],
   "source": [
    "if not os_conn.get_security_group(\"Allow SSH\"):\n",
    "    os_conn.create_security_group(\"Allow SSH\", \"Enable SSH traffic on TCP port 22\")\n",
    "    os_conn.create_security_group_rule(\"Allow SSH\", port_range_min=22, port_range_max=22, protocol='tcp', remote_ip_prefix='0.0.0.0/0')\n",
    "\n",
    "security_group_id = os_conn.get_security_group(\"Allow SSH\").id\n",
    "for port in chi.network.list_ports(): \n",
    "    if port['port_security_enabled'] and port['network_id']==public_net.get(\"id\"):\n",
    "        os_conn.network.update_port(port['id'], security_groups=[security_group_id])"
   ]
  },
  {
   "cell_type": "code",
   "execution_count": 13,
   "metadata": {
    "tags": []
   },
   "outputs": [],
   "source": [
    "for ip in server_ips:\n",
    "    chi.server.wait_for_tcp(ip, port=22)"
   ]
  },
  {
   "cell_type": "markdown",
   "metadata": {},
   "source": [
    "The following cell may raise an error if some of your nodes are still getting set up! If that happens, wait a few minutes and try again. (And then a few minutes more, and try again, if it still raises an error.)"
   ]
  },
  {
   "cell_type": "code",
   "execution_count": 14,
   "metadata": {
    "tags": []
   },
   "outputs": [],
   "source": [
    "primary_remote = chi.ssh.Remote(server_ips[0])\n",
    "physical_ips = [n['addr'] for n in net_conf[0]['nodes']]\n",
    "server_remotes = [chi.ssh.Remote(physical_ip, gateway=primary_remote) for physical_ip in physical_ips]"
   ]
  },
  {
   "cell_type": "markdown",
   "metadata": {},
   "source": [
    "Finally, we need to configure our resources, including software package installation and network configuration."
   ]
  },
  {
   "cell_type": "code",
   "execution_count": 15,
   "metadata": {
    "tags": []
   },
   "outputs": [
    {
     "name": "stderr",
     "output_type": "stream",
     "text": [
      "/opt/conda/lib/python3.10/site-packages/paramiko/client.py:889: UserWarning: Unknown ssh-ed25519 host key for 129.114.27.11: b'82365d3d13f7c495e3d6095d6efafa70'\n",
      "  warnings.warn(\n",
      "/opt/conda/lib/python3.10/site-packages/paramiko/client.py:889: UserWarning: Unknown ssh-ed25519 host key for 192.168.1.10: b'82365d3d13f7c495e3d6095d6efafa70'\n",
      "  warnings.warn(\n"
     ]
    },
    {
     "name": "stdout",
     "output_type": "stream",
     "text": [
      "net.ipv4.ip_forward = 1\n",
      "success\n",
      "success\n",
      "success\n",
      "success\n",
      "success\n",
      "success\n"
     ]
    },
    {
     "name": "stderr",
     "output_type": "stream",
     "text": [
      "/opt/conda/lib/python3.10/site-packages/paramiko/client.py:889: UserWarning: Unknown ssh-ed25519 host key for 192.168.1.11: b'93d0ba6775ebfd2e297afbec4eff4dc4'\n",
      "  warnings.warn(\n"
     ]
    },
    {
     "name": "stdout",
     "output_type": "stream",
     "text": [
      "net.ipv4.ip_forward = 1\n",
      "success\n",
      "success\n",
      "success\n",
      "success\n",
      "success\n",
      "success\n"
     ]
    },
    {
     "name": "stderr",
     "output_type": "stream",
     "text": [
      "/opt/conda/lib/python3.10/site-packages/paramiko/client.py:889: UserWarning: Unknown ssh-ed25519 host key for 192.168.1.12: b'7ea885a6a498acf9d45567e933f5973c'\n",
      "  warnings.warn(\n"
     ]
    },
    {
     "name": "stdout",
     "output_type": "stream",
     "text": [
      "net.ipv4.ip_forward = 1\n",
      "success\n",
      "success\n",
      "success\n",
      "success\n",
      "success\n",
      "success\n"
     ]
    }
   ],
   "source": [
    "import time\n",
    "for i, n in enumerate(node_conf):\n",
    "    remote = server_remotes[i]\n",
    "    # enable forwarding\n",
    "    remote.run(f\"sudo sysctl -w net.ipv4.ip_forward=1\") \n",
    "    remote.run(f\"sudo firewall-cmd --zone=trusted --add-source=192.168.0.0/16 --permanent\")\n",
    "    remote.run(f\"sudo firewall-cmd --zone=trusted --add-source=172.16.0.0/12 --permanent\")\n",
    "    remote.run(f\"sudo firewall-cmd --zone=trusted --add-source=10.0.0.0/8 --permanent\")\n",
    "    remote.run(f\"sudo firewall-cmd --zone=trusted --add-source=127.0.0.0/8 --permanent\")\n",
    "    # these are required for etcd\n",
    "    remote.run(f\"sudo firewall-cmd --zone=public --add-port=4001/tcp\")\n",
    "    remote.run(f\"sudo firewall-cmd --zone=public --add-port=2379-2380/tcp\")\n",
    "    time.sleep(3)"
   ]
  },
  {
   "cell_type": "code",
   "execution_count": 16,
   "metadata": {
    "collapsed": true,
    "jupyter": {
     "outputs_hidden": true
    },
    "tags": []
   },
   "outputs": [
    {
     "name": "stderr",
     "output_type": "stream",
     "text": [
      "\n",
      "WARNING: apt does not have a stable CLI interface. Use with caution in scripts.\n",
      "\n"
     ]
    },
    {
     "name": "stdout",
     "output_type": "stream",
     "text": [
      "Get:1 http://security.ubuntu.com/ubuntu jammy-security InRelease [129 kB]\n",
      "Get:2 http://nova.clouds.archive.ubuntu.com/ubuntu jammy InRelease [270 kB]\n",
      "Get:3 http://security.ubuntu.com/ubuntu jammy-security/main amd64 Packages [2040 kB]\n",
      "Get:4 http://security.ubuntu.com/ubuntu jammy-security/main amd64 c-n-f Metadata [13.3 kB]\n",
      "Get:5 http://security.ubuntu.com/ubuntu jammy-security/restricted amd64 Packages [2772 kB]\n",
      "Get:6 http://security.ubuntu.com/ubuntu jammy-security/restricted amd64 c-n-f Metadata [580 B]\n",
      "Get:7 http://security.ubuntu.com/ubuntu jammy-security/universe amd64 Packages [959 kB]\n",
      "Get:8 http://security.ubuntu.com/ubuntu jammy-security/universe amd64 c-n-f Metadata [19.5 kB]\n",
      "Get:9 http://security.ubuntu.com/ubuntu jammy-security/multiverse amd64 Packages [37.6 kB]\n",
      "Get:10 http://security.ubuntu.com/ubuntu jammy-security/multiverse amd64 c-n-f Metadata [224 B]\n",
      "Get:11 http://nova.clouds.archive.ubuntu.com/ubuntu jammy-updates InRelease [128 kB]\n",
      "Get:12 http://nova.clouds.archive.ubuntu.com/ubuntu jammy-backports InRelease [127 kB]\n",
      "Get:13 http://nova.clouds.archive.ubuntu.com/ubuntu jammy-updates/main amd64 Packages [2276 kB]\n",
      "Get:14 http://nova.clouds.archive.ubuntu.com/ubuntu jammy-updates/main amd64 c-n-f Metadata [17.9 kB]\n",
      "Get:15 http://nova.clouds.archive.ubuntu.com/ubuntu jammy-updates/restricted amd64 Packages [2877 kB]\n",
      "Get:16 http://nova.clouds.archive.ubuntu.com/ubuntu jammy-updates/restricted amd64 c-n-f Metadata [612 B]\n",
      "Get:17 http://nova.clouds.archive.ubuntu.com/ubuntu jammy-updates/universe amd64 Packages [1181 kB]\n",
      "Get:18 http://nova.clouds.archive.ubuntu.com/ubuntu jammy-updates/universe amd64 c-n-f Metadata [26.4 kB]\n",
      "Get:19 http://nova.clouds.archive.ubuntu.com/ubuntu jammy-updates/multiverse amd64 Packages [44.5 kB]\n",
      "Get:20 http://nova.clouds.archive.ubuntu.com/ubuntu jammy-updates/multiverse amd64 c-n-f Metadata [440 B]\n",
      "Get:21 http://nova.clouds.archive.ubuntu.com/ubuntu jammy-backports/main amd64 Packages [67.7 kB]\n",
      "Get:22 http://nova.clouds.archive.ubuntu.com/ubuntu jammy-backports/universe amd64 Packages [28.9 kB]\n",
      "Fetched 13.0 MB in 3s (4294 kB/s)\n",
      "Reading package lists...\n",
      "Building dependency tree...\n",
      "Reading state information...\n",
      "51 packages can be upgraded. Run 'apt list --upgradable' to see them.\n"
     ]
    },
    {
     "name": "stderr",
     "output_type": "stream",
     "text": [
      "\n",
      "WARNING: apt does not have a stable CLI interface. Use with caution in scripts.\n",
      "\n"
     ]
    },
    {
     "name": "stdout",
     "output_type": "stream",
     "text": [
      "Reading package lists...\n",
      "Building dependency tree...\n",
      "Reading state information...\n",
      "The following additional packages will be installed:\n",
      "  python3-distlib python3-filelock python3-pip python3-platformdirs\n",
      "  python3-virtualenv python3-wheel python3-wheel-whl\n",
      "Suggested packages:\n",
      "  python2-pip-whl python2-setuptools-whl\n",
      "The following NEW packages will be installed:\n",
      "  python3-distlib python3-filelock python3-pip python3-platformdirs\n",
      "  python3-virtualenv python3-wheel python3-wheel-whl virtualenv\n",
      "0 upgraded, 8 newly installed, 0 to remove and 51 not upgraded.\n",
      "Need to get 1750 kB of archives.\n",
      "After this operation, 9000 kB of additional disk space will be used.\n",
      "Get:1 http://nova.clouds.archive.ubuntu.com/ubuntu jammy/universe amd64 python3-distlib all 0.3.4-1 [269 kB]\n",
      "Get:2 http://nova.clouds.archive.ubuntu.com/ubuntu jammy/universe amd64 python3-filelock all 3.6.0-1 [8788 B]\n",
      "Get:3 http://nova.clouds.archive.ubuntu.com/ubuntu jammy-updates/universe amd64 python3-wheel all 0.37.1-2ubuntu0.22.04.1 [32.0 kB]\n",
      "Get:4 http://nova.clouds.archive.ubuntu.com/ubuntu jammy-updates/universe amd64 python3-pip all 22.0.2+dfsg-1ubuntu0.5 [1306 kB]\n",
      "Get:5 http://nova.clouds.archive.ubuntu.com/ubuntu jammy/universe amd64 python3-platformdirs all 2.5.1-1 [14.2 kB]\n",
      "Get:6 http://nova.clouds.archive.ubuntu.com/ubuntu jammy-updates/universe amd64 python3-wheel-whl all 0.37.1-2ubuntu0.22.04.1 [38.0 kB]\n",
      "Get:7 http://nova.clouds.archive.ubuntu.com/ubuntu jammy/universe amd64 python3-virtualenv all 20.13.0+ds-2 [80.3 kB]\n",
      "Get:8 http://nova.clouds.archive.ubuntu.com/ubuntu jammy/universe amd64 virtualenv all 20.13.0+ds-2 [1968 B]\n"
     ]
    },
    {
     "name": "stderr",
     "output_type": "stream",
     "text": [
      "debconf: unable to initialize frontend: Dialog\n",
      "debconf: (Dialog frontend will not work on a dumb terminal, an emacs shell buffer, or without a controlling terminal.)\n",
      "debconf: falling back to frontend: Readline\n",
      "debconf: unable to initialize frontend: Readline\n",
      "debconf: (This frontend requires a controlling tty.)\n",
      "debconf: falling back to frontend: Teletype\n",
      "dpkg-preconfigure: unable to re-open stdin: \n"
     ]
    },
    {
     "name": "stdout",
     "output_type": "stream",
     "text": [
      "Fetched 1750 kB in 1s (3041 kB/s)\n",
      "Selecting previously unselected package python3-distlib.\n",
      "(Reading database ... 84249 files and directories currently installed.)\n",
      "Preparing to unpack .../0-python3-distlib_0.3.4-1_all.deb ...\n",
      "Unpacking python3-distlib (0.3.4-1) ...\n",
      "Selecting previously unselected package python3-filelock.\n",
      "Preparing to unpack .../1-python3-filelock_3.6.0-1_all.deb ...\n",
      "Unpacking python3-filelock (3.6.0-1) ...\n",
      "Selecting previously unselected package python3-wheel.\n",
      "Preparing to unpack .../2-python3-wheel_0.37.1-2ubuntu0.22.04.1_all.deb ...\n",
      "Unpacking python3-wheel (0.37.1-2ubuntu0.22.04.1) ...\n",
      "Selecting previously unselected package python3-pip.\n",
      "Preparing to unpack .../3-python3-pip_22.0.2+dfsg-1ubuntu0.5_all.deb ...\n",
      "Unpacking python3-pip (22.0.2+dfsg-1ubuntu0.5) ...\n",
      "Selecting previously unselected package python3-platformdirs.\n",
      "Preparing to unpack .../4-python3-platformdirs_2.5.1-1_all.deb ...\n",
      "Unpacking python3-platformdirs (2.5.1-1) ...\n",
      "Selecting previously unselected package python3-wheel-whl.\n",
      "Preparing to unpack .../5-python3-wheel-whl_0.37.1-2ubuntu0.22.04.1_all.deb ...\n",
      "Unpacking python3-wheel-whl (0.37.1-2ubuntu0.22.04.1) ...\n",
      "Selecting previously unselected package python3-virtualenv.\n",
      "Preparing to unpack .../6-python3-virtualenv_20.13.0+ds-2_all.deb ...\n",
      "Unpacking python3-virtualenv (20.13.0+ds-2) ...\n",
      "Selecting previously unselected package virtualenv.\n",
      "Preparing to unpack .../7-virtualenv_20.13.0+ds-2_all.deb ...\n",
      "Unpacking virtualenv (20.13.0+ds-2) ...\n",
      "Setting up python3-filelock (3.6.0-1) ...\n",
      "Setting up python3-distlib (0.3.4-1) ...\n",
      "Setting up python3-wheel (0.37.1-2ubuntu0.22.04.1) ...\n",
      "Setting up python3-platformdirs (2.5.1-1) ...\n",
      "Setting up python3-pip (22.0.2+dfsg-1ubuntu0.5) ...\n",
      "Setting up python3-wheel-whl (0.37.1-2ubuntu0.22.04.1) ...\n",
      "Setting up python3-virtualenv (20.13.0+ds-2) ...\n",
      "Setting up virtualenv (20.13.0+ds-2) ...\n",
      "Processing triggers for man-db (2.10.2-1) ...\n",
      "\n",
      "Running kernel seems to be up-to-date.\n",
      "\n",
      "No services need to be restarted.\n",
      "\n",
      "No containers need to be restarted.\n",
      "\n",
      "No user sessions are running outdated binaries.\n",
      "\n",
      "No VM guests are running outdated hypervisor (qemu) binaries on this host.\n"
     ]
    },
    {
     "name": "stderr",
     "output_type": "stream",
     "text": [
      "\n",
      "WARNING: apt does not have a stable CLI interface. Use with caution in scripts.\n",
      "\n"
     ]
    },
    {
     "name": "stdout",
     "output_type": "stream",
     "text": [
      "Get:1 http://nova.clouds.archive.ubuntu.com/ubuntu jammy InRelease [270 kB]\n",
      "Get:2 http://security.ubuntu.com/ubuntu jammy-security InRelease [129 kB]\n",
      "Get:3 http://nova.clouds.archive.ubuntu.com/ubuntu jammy-updates InRelease [128 kB]\n",
      "Get:4 http://nova.clouds.archive.ubuntu.com/ubuntu jammy-backports InRelease [127 kB]\n",
      "Get:5 http://security.ubuntu.com/ubuntu jammy-security/main amd64 Packages [2040 kB]\n",
      "Get:6 http://security.ubuntu.com/ubuntu jammy-security/main amd64 c-n-f Metadata [13.3 kB]\n",
      "Get:7 http://security.ubuntu.com/ubuntu jammy-security/restricted amd64 Packages [2772 kB]\n",
      "Get:8 http://security.ubuntu.com/ubuntu jammy-security/restricted amd64 c-n-f Metadata [580 B]\n",
      "Get:9 http://security.ubuntu.com/ubuntu jammy-security/universe amd64 Packages [959 kB]\n",
      "Get:10 http://security.ubuntu.com/ubuntu jammy-security/universe amd64 c-n-f Metadata [19.5 kB]\n",
      "Get:11 http://security.ubuntu.com/ubuntu jammy-security/multiverse amd64 Packages [37.6 kB]\n",
      "Get:12 http://security.ubuntu.com/ubuntu jammy-security/multiverse amd64 c-n-f Metadata [224 B]\n",
      "Get:13 http://nova.clouds.archive.ubuntu.com/ubuntu jammy-updates/main amd64 Packages [2276 kB]\n",
      "Get:14 http://nova.clouds.archive.ubuntu.com/ubuntu jammy-updates/main amd64 c-n-f Metadata [17.9 kB]\n",
      "Get:15 http://nova.clouds.archive.ubuntu.com/ubuntu jammy-updates/restricted amd64 Packages [2877 kB]\n",
      "Get:16 http://nova.clouds.archive.ubuntu.com/ubuntu jammy-updates/restricted amd64 c-n-f Metadata [612 B]\n",
      "Get:17 http://nova.clouds.archive.ubuntu.com/ubuntu jammy-updates/universe amd64 Packages [1181 kB]\n",
      "Get:18 http://nova.clouds.archive.ubuntu.com/ubuntu jammy-updates/universe amd64 c-n-f Metadata [26.4 kB]\n",
      "Get:19 http://nova.clouds.archive.ubuntu.com/ubuntu jammy-updates/multiverse amd64 Packages [44.5 kB]\n",
      "Get:20 http://nova.clouds.archive.ubuntu.com/ubuntu jammy-updates/multiverse amd64 c-n-f Metadata [440 B]\n",
      "Get:21 http://nova.clouds.archive.ubuntu.com/ubuntu jammy-backports/main amd64 Packages [67.7 kB]\n",
      "Get:22 http://nova.clouds.archive.ubuntu.com/ubuntu jammy-backports/universe amd64 Packages [28.9 kB]\n",
      "Fetched 13.0 MB in 3s (4342 kB/s)\n",
      "Reading package lists...\n",
      "Building dependency tree...\n",
      "Reading state information...\n",
      "51 packages can be upgraded. Run 'apt list --upgradable' to see them.\n"
     ]
    },
    {
     "name": "stderr",
     "output_type": "stream",
     "text": [
      "\n",
      "WARNING: apt does not have a stable CLI interface. Use with caution in scripts.\n",
      "\n"
     ]
    },
    {
     "name": "stdout",
     "output_type": "stream",
     "text": [
      "Reading package lists...\n",
      "Building dependency tree...\n",
      "Reading state information...\n",
      "The following additional packages will be installed:\n",
      "  python3-distlib python3-docker python3-dockerpty python3-docopt\n",
      "  python3-dotenv python3-filelock python3-pip python3-platformdirs\n",
      "  python3-texttable python3-virtualenv python3-websocket python3-wheel\n",
      "  python3-wheel-whl\n",
      "Suggested packages:\n",
      "  python2-pip-whl python2-setuptools-whl\n",
      "Recommended packages:\n",
      "  docker.io\n",
      "The following NEW packages will be installed:\n",
      "  docker-compose python3-distlib python3-docker python3-dockerpty\n",
      "  python3-docopt python3-dotenv python3-filelock python3-pip\n",
      "  python3-platformdirs python3-texttable python3-virtualenv python3-websocket\n",
      "  python3-wheel python3-wheel-whl virtualenv\n",
      "0 upgraded, 15 newly installed, 0 to remove and 51 not upgraded.\n",
      "Need to get 2040 kB of archives.\n",
      "After this operation, 10.5 MB of additional disk space will be used.\n",
      "Get:1 http://nova.clouds.archive.ubuntu.com/ubuntu jammy/universe amd64 python3-websocket all 1.2.3-1 [34.7 kB]\n",
      "Get:2 http://nova.clouds.archive.ubuntu.com/ubuntu jammy/universe amd64 python3-docker all 5.0.3-1 [89.3 kB]\n",
      "Get:3 http://nova.clouds.archive.ubuntu.com/ubuntu jammy/universe amd64 python3-dockerpty all 0.4.1-2 [11.1 kB]\n",
      "Get:4 http://nova.clouds.archive.ubuntu.com/ubuntu jammy/universe amd64 python3-docopt all 0.6.2-4 [26.9 kB]\n",
      "Get:5 http://nova.clouds.archive.ubuntu.com/ubuntu jammy/universe amd64 python3-dotenv all 0.19.2-1 [20.5 kB]\n",
      "Get:6 http://nova.clouds.archive.ubuntu.com/ubuntu jammy/universe amd64 python3-texttable all 1.6.4-1 [11.4 kB]\n",
      "Get:7 http://nova.clouds.archive.ubuntu.com/ubuntu jammy/universe amd64 docker-compose all 1.29.2-1 [95.8 kB]\n",
      "Get:8 http://nova.clouds.archive.ubuntu.com/ubuntu jammy/universe amd64 python3-distlib all 0.3.4-1 [269 kB]\n",
      "Get:9 http://nova.clouds.archive.ubuntu.com/ubuntu jammy/universe amd64 python3-filelock all 3.6.0-1 [8788 B]\n",
      "Get:10 http://nova.clouds.archive.ubuntu.com/ubuntu jammy-updates/universe amd64 python3-wheel all 0.37.1-2ubuntu0.22.04.1 [32.0 kB]\n",
      "Get:11 http://nova.clouds.archive.ubuntu.com/ubuntu jammy-updates/universe amd64 python3-pip all 22.0.2+dfsg-1ubuntu0.5 [1306 kB]\n",
      "Get:12 http://nova.clouds.archive.ubuntu.com/ubuntu jammy/universe amd64 python3-platformdirs all 2.5.1-1 [14.2 kB]\n",
      "Get:13 http://nova.clouds.archive.ubuntu.com/ubuntu jammy-updates/universe amd64 python3-wheel-whl all 0.37.1-2ubuntu0.22.04.1 [38.0 kB]\n",
      "Get:14 http://nova.clouds.archive.ubuntu.com/ubuntu jammy/universe amd64 python3-virtualenv all 20.13.0+ds-2 [80.3 kB]\n",
      "Get:15 http://nova.clouds.archive.ubuntu.com/ubuntu jammy/universe amd64 virtualenv all 20.13.0+ds-2 [1968 B]\n"
     ]
    },
    {
     "name": "stderr",
     "output_type": "stream",
     "text": [
      "debconf: unable to initialize frontend: Dialog\n",
      "debconf: (Dialog frontend will not work on a dumb terminal, an emacs shell buffer, or without a controlling terminal.)\n",
      "debconf: falling back to frontend: Readline\n",
      "debconf: unable to initialize frontend: Readline\n",
      "debconf: (This frontend requires a controlling tty.)\n",
      "debconf: falling back to frontend: Teletype\n",
      "dpkg-preconfigure: unable to re-open stdin: \n"
     ]
    },
    {
     "name": "stdout",
     "output_type": "stream",
     "text": [
      "Fetched 2040 kB in 2s (1308 kB/s)\n",
      "Selecting previously unselected package python3-websocket.\n",
      "(Reading database ... 84249 files and directories currently installed.)\n",
      "Preparing to unpack .../00-python3-websocket_1.2.3-1_all.deb ...\n",
      "Unpacking python3-websocket (1.2.3-1) ...\n",
      "Selecting previously unselected package python3-docker.\n",
      "Preparing to unpack .../01-python3-docker_5.0.3-1_all.deb ...\n",
      "Unpacking python3-docker (5.0.3-1) ...\n",
      "Selecting previously unselected package python3-dockerpty.\n",
      "Preparing to unpack .../02-python3-dockerpty_0.4.1-2_all.deb ...\n",
      "Unpacking python3-dockerpty (0.4.1-2) ...\n",
      "Selecting previously unselected package python3-docopt.\n",
      "Preparing to unpack .../03-python3-docopt_0.6.2-4_all.deb ...\n",
      "Unpacking python3-docopt (0.6.2-4) ...\n",
      "Selecting previously unselected package python3-dotenv.\n",
      "Preparing to unpack .../04-python3-dotenv_0.19.2-1_all.deb ...\n",
      "Unpacking python3-dotenv (0.19.2-1) ...\n",
      "Selecting previously unselected package python3-texttable.\n",
      "Preparing to unpack .../05-python3-texttable_1.6.4-1_all.deb ...\n",
      "Unpacking python3-texttable (1.6.4-1) ...\n",
      "Selecting previously unselected package docker-compose.\n",
      "Preparing to unpack .../06-docker-compose_1.29.2-1_all.deb ...\n",
      "Unpacking docker-compose (1.29.2-1) ...\n",
      "Selecting previously unselected package python3-distlib.\n",
      "Preparing to unpack .../07-python3-distlib_0.3.4-1_all.deb ...\n",
      "Unpacking python3-distlib (0.3.4-1) ...\n",
      "Selecting previously unselected package python3-filelock.\n",
      "Preparing to unpack .../08-python3-filelock_3.6.0-1_all.deb ...\n",
      "Unpacking python3-filelock (3.6.0-1) ...\n",
      "Selecting previously unselected package python3-wheel.\n",
      "Preparing to unpack .../09-python3-wheel_0.37.1-2ubuntu0.22.04.1_all.deb ...\n",
      "Unpacking python3-wheel (0.37.1-2ubuntu0.22.04.1) ...\n",
      "Selecting previously unselected package python3-pip.\n",
      "Preparing to unpack .../10-python3-pip_22.0.2+dfsg-1ubuntu0.5_all.deb ...\n",
      "Unpacking python3-pip (22.0.2+dfsg-1ubuntu0.5) ...\n",
      "Selecting previously unselected package python3-platformdirs.\n",
      "Preparing to unpack .../11-python3-platformdirs_2.5.1-1_all.deb ...\n",
      "Unpacking python3-platformdirs (2.5.1-1) ...\n",
      "Selecting previously unselected package python3-wheel-whl.\n",
      "Preparing to unpack .../12-python3-wheel-whl_0.37.1-2ubuntu0.22.04.1_all.deb ...\n",
      "Unpacking python3-wheel-whl (0.37.1-2ubuntu0.22.04.1) ...\n",
      "Selecting previously unselected package python3-virtualenv.\n",
      "Preparing to unpack .../13-python3-virtualenv_20.13.0+ds-2_all.deb ...\n",
      "Unpacking python3-virtualenv (20.13.0+ds-2) ...\n",
      "Selecting previously unselected package virtualenv.\n",
      "Preparing to unpack .../14-virtualenv_20.13.0+ds-2_all.deb ...\n",
      "Unpacking virtualenv (20.13.0+ds-2) ...\n",
      "Setting up python3-dotenv (0.19.2-1) ...\n",
      "Setting up python3-texttable (1.6.4-1) ...\n",
      "Setting up python3-docopt (0.6.2-4) ...\n",
      "Setting up python3-filelock (3.6.0-1) ...\n",
      "Setting up python3-distlib (0.3.4-1) ...\n",
      "Setting up python3-wheel (0.37.1-2ubuntu0.22.04.1) ...\n",
      "Setting up python3-platformdirs (2.5.1-1) ...\n",
      "Setting up python3-pip (22.0.2+dfsg-1ubuntu0.5) ...\n",
      "Setting up python3-wheel-whl (0.37.1-2ubuntu0.22.04.1) ...\n",
      "Setting up python3-websocket (1.2.3-1) ...\n",
      "Setting up python3-dockerpty (0.4.1-2) ...\n",
      "Setting up python3-docker (5.0.3-1) ...\n",
      "Setting up python3-virtualenv (20.13.0+ds-2) ...\n",
      "Setting up virtualenv (20.13.0+ds-2) ...\n",
      "Setting up docker-compose (1.29.2-1) ...\n",
      "Processing triggers for man-db (2.10.2-1) ...\n",
      "\n",
      "Running kernel seems to be up-to-date.\n",
      "\n",
      "No services need to be restarted.\n",
      "\n",
      "No containers need to be restarted.\n",
      "\n",
      "No user sessions are running outdated binaries.\n",
      "\n",
      "No VM guests are running outdated hypervisor (qemu) binaries on this host.\n"
     ]
    },
    {
     "name": "stderr",
     "output_type": "stream",
     "text": [
      "\n",
      "WARNING: apt does not have a stable CLI interface. Use with caution in scripts.\n",
      "\n"
     ]
    },
    {
     "name": "stdout",
     "output_type": "stream",
     "text": [
      "Get:1 http://security.ubuntu.com/ubuntu jammy-security InRelease [129 kB]\n",
      "Get:2 http://nova.clouds.archive.ubuntu.com/ubuntu jammy InRelease [270 kB]\n",
      "Get:3 http://security.ubuntu.com/ubuntu jammy-security/main amd64 Packages [2040 kB]\n",
      "Get:4 http://security.ubuntu.com/ubuntu jammy-security/main amd64 c-n-f Metadata [13.3 kB]\n",
      "Get:5 http://security.ubuntu.com/ubuntu jammy-security/restricted amd64 Packages [2772 kB]\n",
      "Get:6 http://security.ubuntu.com/ubuntu jammy-security/restricted amd64 c-n-f Metadata [580 B]\n",
      "Get:7 http://security.ubuntu.com/ubuntu jammy-security/universe amd64 Packages [959 kB]\n",
      "Get:8 http://security.ubuntu.com/ubuntu jammy-security/universe amd64 c-n-f Metadata [19.5 kB]\n",
      "Get:9 http://security.ubuntu.com/ubuntu jammy-security/multiverse amd64 Packages [37.6 kB]\n",
      "Get:10 http://security.ubuntu.com/ubuntu jammy-security/multiverse amd64 c-n-f Metadata [224 B]\n",
      "Get:11 http://nova.clouds.archive.ubuntu.com/ubuntu jammy-updates InRelease [128 kB]\n",
      "Get:12 http://nova.clouds.archive.ubuntu.com/ubuntu jammy-backports InRelease [127 kB]\n",
      "Get:13 http://nova.clouds.archive.ubuntu.com/ubuntu jammy-updates/main amd64 Packages [2276 kB]\n",
      "Get:14 http://nova.clouds.archive.ubuntu.com/ubuntu jammy-updates/main amd64 c-n-f Metadata [17.9 kB]\n",
      "Get:15 http://nova.clouds.archive.ubuntu.com/ubuntu jammy-updates/restricted amd64 Packages [2877 kB]\n",
      "Get:16 http://nova.clouds.archive.ubuntu.com/ubuntu jammy-updates/restricted amd64 c-n-f Metadata [612 B]\n",
      "Get:17 http://nova.clouds.archive.ubuntu.com/ubuntu jammy-updates/universe amd64 Packages [1181 kB]\n",
      "Get:18 http://nova.clouds.archive.ubuntu.com/ubuntu jammy-updates/universe amd64 c-n-f Metadata [26.4 kB]\n",
      "Get:19 http://nova.clouds.archive.ubuntu.com/ubuntu jammy-updates/multiverse amd64 Packages [44.5 kB]\n",
      "Get:20 http://nova.clouds.archive.ubuntu.com/ubuntu jammy-updates/multiverse amd64 c-n-f Metadata [440 B]\n",
      "Get:21 http://nova.clouds.archive.ubuntu.com/ubuntu jammy-backports/main amd64 Packages [67.7 kB]\n",
      "Get:22 http://nova.clouds.archive.ubuntu.com/ubuntu jammy-backports/universe amd64 Packages [28.9 kB]\n",
      "Fetched 13.0 MB in 4s (3386 kB/s)\n",
      "Reading package lists...\n",
      "Building dependency tree...\n",
      "Reading state information...\n",
      "51 packages can be upgraded. Run 'apt list --upgradable' to see them.\n"
     ]
    },
    {
     "name": "stderr",
     "output_type": "stream",
     "text": [
      "\n",
      "WARNING: apt does not have a stable CLI interface. Use with caution in scripts.\n",
      "\n"
     ]
    },
    {
     "name": "stdout",
     "output_type": "stream",
     "text": [
      "Reading package lists...\n",
      "Building dependency tree...\n",
      "Reading state information...\n",
      "The following additional packages will be installed:\n",
      "  python3-distlib python3-docker python3-dockerpty python3-docopt\n",
      "  python3-dotenv python3-filelock python3-pip python3-platformdirs\n",
      "  python3-texttable python3-virtualenv python3-websocket python3-wheel\n",
      "  python3-wheel-whl\n",
      "Suggested packages:\n",
      "  python2-pip-whl python2-setuptools-whl\n",
      "Recommended packages:\n",
      "  docker.io\n",
      "The following NEW packages will be installed:\n",
      "  docker-compose python3-distlib python3-docker python3-dockerpty\n",
      "  python3-docopt python3-dotenv python3-filelock python3-pip\n",
      "  python3-platformdirs python3-texttable python3-virtualenv python3-websocket\n",
      "  python3-wheel python3-wheel-whl virtualenv\n",
      "0 upgraded, 15 newly installed, 0 to remove and 51 not upgraded.\n",
      "Need to get 2040 kB of archives.\n",
      "After this operation, 10.5 MB of additional disk space will be used.\n",
      "Get:1 http://nova.clouds.archive.ubuntu.com/ubuntu jammy/universe amd64 python3-websocket all 1.2.3-1 [34.7 kB]\n",
      "Get:2 http://nova.clouds.archive.ubuntu.com/ubuntu jammy/universe amd64 python3-docker all 5.0.3-1 [89.3 kB]\n",
      "Get:3 http://nova.clouds.archive.ubuntu.com/ubuntu jammy/universe amd64 python3-dockerpty all 0.4.1-2 [11.1 kB]\n",
      "Get:4 http://nova.clouds.archive.ubuntu.com/ubuntu jammy/universe amd64 python3-docopt all 0.6.2-4 [26.9 kB]\n",
      "Get:5 http://nova.clouds.archive.ubuntu.com/ubuntu jammy/universe amd64 python3-dotenv all 0.19.2-1 [20.5 kB]\n",
      "Get:6 http://nova.clouds.archive.ubuntu.com/ubuntu jammy/universe amd64 python3-texttable all 1.6.4-1 [11.4 kB]\n",
      "Get:7 http://nova.clouds.archive.ubuntu.com/ubuntu jammy/universe amd64 docker-compose all 1.29.2-1 [95.8 kB]\n",
      "Get:8 http://nova.clouds.archive.ubuntu.com/ubuntu jammy/universe amd64 python3-distlib all 0.3.4-1 [269 kB]\n",
      "Get:9 http://nova.clouds.archive.ubuntu.com/ubuntu jammy/universe amd64 python3-filelock all 3.6.0-1 [8788 B]\n",
      "Get:10 http://nova.clouds.archive.ubuntu.com/ubuntu jammy-updates/universe amd64 python3-wheel all 0.37.1-2ubuntu0.22.04.1 [32.0 kB]\n",
      "Get:11 http://nova.clouds.archive.ubuntu.com/ubuntu jammy-updates/universe amd64 python3-pip all 22.0.2+dfsg-1ubuntu0.5 [1306 kB]\n",
      "Get:12 http://nova.clouds.archive.ubuntu.com/ubuntu jammy/universe amd64 python3-platformdirs all 2.5.1-1 [14.2 kB]\n",
      "Get:13 http://nova.clouds.archive.ubuntu.com/ubuntu jammy-updates/universe amd64 python3-wheel-whl all 0.37.1-2ubuntu0.22.04.1 [38.0 kB]\n",
      "Get:14 http://nova.clouds.archive.ubuntu.com/ubuntu jammy/universe amd64 python3-virtualenv all 20.13.0+ds-2 [80.3 kB]\n",
      "Get:15 http://nova.clouds.archive.ubuntu.com/ubuntu jammy/universe amd64 virtualenv all 20.13.0+ds-2 [1968 B]\n"
     ]
    },
    {
     "name": "stderr",
     "output_type": "stream",
     "text": [
      "debconf: unable to initialize frontend: Dialog\n",
      "debconf: (Dialog frontend will not work on a dumb terminal, an emacs shell buffer, or without a controlling terminal.)\n",
      "debconf: falling back to frontend: Readline\n",
      "debconf: unable to initialize frontend: Readline\n",
      "debconf: (This frontend requires a controlling tty.)\n",
      "debconf: falling back to frontend: Teletype\n",
      "dpkg-preconfigure: unable to re-open stdin: \n"
     ]
    },
    {
     "name": "stdout",
     "output_type": "stream",
     "text": [
      "Fetched 2040 kB in 1s (1576 kB/s)\n",
      "Selecting previously unselected package python3-websocket.\n",
      "(Reading database ... 84249 files and directories currently installed.)\n",
      "Preparing to unpack .../00-python3-websocket_1.2.3-1_all.deb ...\n",
      "Unpacking python3-websocket (1.2.3-1) ...\n",
      "Selecting previously unselected package python3-docker.\n",
      "Preparing to unpack .../01-python3-docker_5.0.3-1_all.deb ...\n",
      "Unpacking python3-docker (5.0.3-1) ...\n",
      "Selecting previously unselected package python3-dockerpty.\n",
      "Preparing to unpack .../02-python3-dockerpty_0.4.1-2_all.deb ...\n",
      "Unpacking python3-dockerpty (0.4.1-2) ...\n",
      "Selecting previously unselected package python3-docopt.\n",
      "Preparing to unpack .../03-python3-docopt_0.6.2-4_all.deb ...\n",
      "Unpacking python3-docopt (0.6.2-4) ...\n",
      "Selecting previously unselected package python3-dotenv.\n",
      "Preparing to unpack .../04-python3-dotenv_0.19.2-1_all.deb ...\n",
      "Unpacking python3-dotenv (0.19.2-1) ...\n",
      "Selecting previously unselected package python3-texttable.\n",
      "Preparing to unpack .../05-python3-texttable_1.6.4-1_all.deb ...\n",
      "Unpacking python3-texttable (1.6.4-1) ...\n",
      "Selecting previously unselected package docker-compose.\n",
      "Preparing to unpack .../06-docker-compose_1.29.2-1_all.deb ...\n",
      "Unpacking docker-compose (1.29.2-1) ...\n",
      "Selecting previously unselected package python3-distlib.\n",
      "Preparing to unpack .../07-python3-distlib_0.3.4-1_all.deb ...\n",
      "Unpacking python3-distlib (0.3.4-1) ...\n",
      "Selecting previously unselected package python3-filelock.\n",
      "Preparing to unpack .../08-python3-filelock_3.6.0-1_all.deb ...\n",
      "Unpacking python3-filelock (3.6.0-1) ...\n",
      "Selecting previously unselected package python3-wheel.\n",
      "Preparing to unpack .../09-python3-wheel_0.37.1-2ubuntu0.22.04.1_all.deb ...\n",
      "Unpacking python3-wheel (0.37.1-2ubuntu0.22.04.1) ...\n",
      "Selecting previously unselected package python3-pip.\n",
      "Preparing to unpack .../10-python3-pip_22.0.2+dfsg-1ubuntu0.5_all.deb ...\n",
      "Unpacking python3-pip (22.0.2+dfsg-1ubuntu0.5) ...\n",
      "Selecting previously unselected package python3-platformdirs.\n",
      "Preparing to unpack .../11-python3-platformdirs_2.5.1-1_all.deb ...\n",
      "Unpacking python3-platformdirs (2.5.1-1) ...\n",
      "Selecting previously unselected package python3-wheel-whl.\n",
      "Preparing to unpack .../12-python3-wheel-whl_0.37.1-2ubuntu0.22.04.1_all.deb ...\n",
      "Unpacking python3-wheel-whl (0.37.1-2ubuntu0.22.04.1) ...\n",
      "Selecting previously unselected package python3-virtualenv.\n",
      "Preparing to unpack .../13-python3-virtualenv_20.13.0+ds-2_all.deb ...\n",
      "Unpacking python3-virtualenv (20.13.0+ds-2) ...\n",
      "Selecting previously unselected package virtualenv.\n",
      "Preparing to unpack .../14-virtualenv_20.13.0+ds-2_all.deb ...\n",
      "Unpacking virtualenv (20.13.0+ds-2) ...\n",
      "Setting up python3-dotenv (0.19.2-1) ...\n",
      "Setting up python3-texttable (1.6.4-1) ...\n",
      "Setting up python3-docopt (0.6.2-4) ...\n",
      "Setting up python3-filelock (3.6.0-1) ...\n",
      "Setting up python3-distlib (0.3.4-1) ...\n",
      "Setting up python3-wheel (0.37.1-2ubuntu0.22.04.1) ...\n",
      "Setting up python3-platformdirs (2.5.1-1) ...\n",
      "Setting up python3-pip (22.0.2+dfsg-1ubuntu0.5) ...\n",
      "Setting up python3-wheel-whl (0.37.1-2ubuntu0.22.04.1) ...\n",
      "Setting up python3-websocket (1.2.3-1) ...\n",
      "Setting up python3-dockerpty (0.4.1-2) ...\n",
      "Setting up python3-docker (5.0.3-1) ...\n",
      "Setting up python3-virtualenv (20.13.0+ds-2) ...\n",
      "Setting up virtualenv (20.13.0+ds-2) ...\n",
      "Setting up docker-compose (1.29.2-1) ...\n",
      "Processing triggers for man-db (2.10.2-1) ...\n",
      "\n",
      "Running kernel seems to be up-to-date.\n",
      "\n",
      "No services need to be restarted.\n",
      "\n",
      "No containers need to be restarted.\n",
      "\n",
      "No user sessions are running outdated binaries.\n",
      "\n",
      "No VM guests are running outdated hypervisor (qemu) binaries on this host.\n"
     ]
    }
   ],
   "source": [
    "for i, n in enumerate(node_conf):\n",
    "    # install packages\n",
    "    if len(n['packages']):\n",
    "            remote = server_remotes[i]\n",
    "            remote.run(f\"sudo apt update; sudo apt -y install \" + \" \".join(n['packages'])) "
   ]
  },
  {
   "cell_type": "code",
   "execution_count": 22,
   "metadata": {
    "tags": []
   },
   "outputs": [],
   "source": [
    "# prepare a \"hosts\" file that has names and addresses of every node\n",
    "hosts_txt = [ \"%s\\t%s\" % ( n['addr'], n['name'] ) for net in net_conf  for n in net['nodes'] if type(n) is dict and n['addr']]\n",
    "for remote in server_remotes:\n",
    "    for h in hosts_txt:\n",
    "        remote.run(\"echo %s | sudo tee -a /etc/hosts > /dev/null\" % h)"
   ]
  },
  {
   "cell_type": "markdown",
   "metadata": {
    "tags": []
   },
   "source": [
    "## TA Notes: (To be removed)\n",
    "\n",
    " No permissions to remove the existing security group - the next cell fails"
   ]
  },
  {
   "cell_type": "code",
   "execution_count": 26,
   "metadata": {
    "collapsed": true,
    "jupyter": {
     "outputs_hidden": true
    },
    "tags": []
   },
   "outputs": [
    {
     "ename": "BadRequestException",
     "evalue": "BadRequestException: 400: Client Error for url: https://kvm.tacc.chameleoncloud.org:9696/v2.0/ports/25c0b592-8e77-4572-a115-1771aa00d5a7, Invalid input for security_groups. Reason: Duplicate items in the list: '8881b2ef-5558-4770-b4d8-5893e86486c0'.",
     "output_type": "error",
     "traceback": [
      "\u001b[0;31m---------------------------------------------------------------------------\u001b[0m",
      "\u001b[0;31mBadRequestException\u001b[0m                       Traceback (most recent call last)",
      "\u001b[0;32m/tmp/ipykernel_113/2142588064.py\u001b[0m in \u001b[0;36m<cell line: 8>\u001b[0;34m()\u001b[0m\n\u001b[1;32m     10\u001b[0m         \u001b[0mpri_security_groups\u001b[0m \u001b[0;34m=\u001b[0m \u001b[0mport\u001b[0m\u001b[0;34m[\u001b[0m\u001b[0;34m'security_groups'\u001b[0m\u001b[0;34m]\u001b[0m\u001b[0;34m\u001b[0m\u001b[0;34m\u001b[0m\u001b[0m\n\u001b[1;32m     11\u001b[0m         \u001b[0mpri_security_groups\u001b[0m\u001b[0;34m.\u001b[0m\u001b[0mappend\u001b[0m\u001b[0;34m(\u001b[0m\u001b[0msecurity_group_id\u001b[0m\u001b[0;34m)\u001b[0m\u001b[0;34m\u001b[0m\u001b[0;34m\u001b[0m\u001b[0m\n\u001b[0;32m---> 12\u001b[0;31m         \u001b[0mos_conn\u001b[0m\u001b[0;34m.\u001b[0m\u001b[0mnetwork\u001b[0m\u001b[0;34m.\u001b[0m\u001b[0mupdate_port\u001b[0m\u001b[0;34m(\u001b[0m\u001b[0mport\u001b[0m\u001b[0;34m[\u001b[0m\u001b[0;34m'id'\u001b[0m\u001b[0;34m]\u001b[0m\u001b[0;34m,\u001b[0m \u001b[0msecurity_groups\u001b[0m\u001b[0;34m=\u001b[0m\u001b[0mpri_security_groups\u001b[0m\u001b[0;34m)\u001b[0m\u001b[0;34m\u001b[0m\u001b[0;34m\u001b[0m\u001b[0m\n\u001b[0m",
      "\u001b[0;32m/opt/conda/lib/python3.10/site-packages/openstack/network/v2/_proxy.py\u001b[0m in \u001b[0;36mupdate_port\u001b[0;34m(self, port, if_revision, **attrs)\u001b[0m\n\u001b[1;32m   2993\u001b[0m         \u001b[0;34m:\u001b[0m\u001b[0mrtype\u001b[0m\u001b[0;34m:\u001b[0m \u001b[0;34m:\u001b[0m\u001b[0;32mclass\u001b[0m\u001b[0;34m:\u001b[0m\u001b[0;31m`\u001b[0m\u001b[0;34m~\u001b[0m\u001b[0mopenstack\u001b[0m\u001b[0;34m.\u001b[0m\u001b[0mnetwork\u001b[0m\u001b[0;34m.\u001b[0m\u001b[0mv2\u001b[0m\u001b[0;34m.\u001b[0m\u001b[0mport\u001b[0m\u001b[0;34m.\u001b[0m\u001b[0mPort\u001b[0m\u001b[0;31m`\u001b[0m\u001b[0;34m\u001b[0m\u001b[0;34m\u001b[0m\u001b[0m\n\u001b[1;32m   2994\u001b[0m         \"\"\"\n\u001b[0;32m-> 2995\u001b[0;31m         \u001b[0;32mreturn\u001b[0m \u001b[0mself\u001b[0m\u001b[0;34m.\u001b[0m\u001b[0m_update\u001b[0m\u001b[0;34m(\u001b[0m\u001b[0m_port\u001b[0m\u001b[0;34m.\u001b[0m\u001b[0mPort\u001b[0m\u001b[0;34m,\u001b[0m \u001b[0mport\u001b[0m\u001b[0;34m,\u001b[0m \u001b[0mif_revision\u001b[0m\u001b[0;34m=\u001b[0m\u001b[0mif_revision\u001b[0m\u001b[0;34m,\u001b[0m \u001b[0;34m**\u001b[0m\u001b[0mattrs\u001b[0m\u001b[0;34m)\u001b[0m\u001b[0;34m\u001b[0m\u001b[0;34m\u001b[0m\u001b[0m\n\u001b[0m\u001b[1;32m   2996\u001b[0m \u001b[0;34m\u001b[0m\u001b[0m\n\u001b[1;32m   2997\u001b[0m     \u001b[0;32mdef\u001b[0m \u001b[0madd_ip_to_port\u001b[0m\u001b[0;34m(\u001b[0m\u001b[0mself\u001b[0m\u001b[0;34m,\u001b[0m \u001b[0mport\u001b[0m\u001b[0;34m,\u001b[0m \u001b[0mip\u001b[0m\u001b[0;34m)\u001b[0m\u001b[0;34m:\u001b[0m\u001b[0;34m\u001b[0m\u001b[0;34m\u001b[0m\u001b[0m\n",
      "\u001b[0;32m/opt/conda/lib/python3.10/site-packages/openstack/proxy.py\u001b[0m in \u001b[0;36mcheck\u001b[0;34m(self, expected, actual, *args, **kwargs)\u001b[0m\n\u001b[1;32m     60\u001b[0m                 )\n\u001b[1;32m     61\u001b[0m \u001b[0;34m\u001b[0m\u001b[0m\n\u001b[0;32m---> 62\u001b[0;31m             \u001b[0;32mreturn\u001b[0m \u001b[0mmethod\u001b[0m\u001b[0;34m(\u001b[0m\u001b[0mself\u001b[0m\u001b[0;34m,\u001b[0m \u001b[0mexpected\u001b[0m\u001b[0;34m,\u001b[0m \u001b[0mactual\u001b[0m\u001b[0;34m,\u001b[0m \u001b[0;34m*\u001b[0m\u001b[0margs\u001b[0m\u001b[0;34m,\u001b[0m \u001b[0;34m**\u001b[0m\u001b[0mkwargs\u001b[0m\u001b[0;34m)\u001b[0m\u001b[0;34m\u001b[0m\u001b[0;34m\u001b[0m\u001b[0m\n\u001b[0m\u001b[1;32m     63\u001b[0m \u001b[0;34m\u001b[0m\u001b[0m\n\u001b[1;32m     64\u001b[0m         \u001b[0;32mreturn\u001b[0m \u001b[0mcheck\u001b[0m\u001b[0;34m\u001b[0m\u001b[0;34m\u001b[0m\u001b[0m\n",
      "\u001b[0;32m/opt/conda/lib/python3.10/site-packages/openstack/network/v2/_proxy.py\u001b[0m in \u001b[0;36m_update\u001b[0;34m(self, resource_type, value, base_path, if_revision, **attrs)\u001b[0m\n\u001b[1;32m    203\u001b[0m     ) -> resource.Resource:\n\u001b[1;32m    204\u001b[0m         \u001b[0mres\u001b[0m \u001b[0;34m=\u001b[0m \u001b[0mself\u001b[0m\u001b[0;34m.\u001b[0m\u001b[0m_get_resource\u001b[0m\u001b[0;34m(\u001b[0m\u001b[0mresource_type\u001b[0m\u001b[0;34m,\u001b[0m \u001b[0mvalue\u001b[0m\u001b[0;34m,\u001b[0m \u001b[0;34m**\u001b[0m\u001b[0mattrs\u001b[0m\u001b[0;34m)\u001b[0m\u001b[0;34m\u001b[0m\u001b[0;34m\u001b[0m\u001b[0m\n\u001b[0;32m--> 205\u001b[0;31m         \u001b[0;32mreturn\u001b[0m \u001b[0mres\u001b[0m\u001b[0;34m.\u001b[0m\u001b[0mcommit\u001b[0m\u001b[0;34m(\u001b[0m\u001b[0mself\u001b[0m\u001b[0;34m,\u001b[0m \u001b[0mbase_path\u001b[0m\u001b[0;34m=\u001b[0m\u001b[0mbase_path\u001b[0m\u001b[0;34m,\u001b[0m \u001b[0mif_revision\u001b[0m\u001b[0;34m=\u001b[0m\u001b[0mif_revision\u001b[0m\u001b[0;34m)\u001b[0m\u001b[0;34m\u001b[0m\u001b[0;34m\u001b[0m\u001b[0m\n\u001b[0m\u001b[1;32m    206\u001b[0m \u001b[0;34m\u001b[0m\u001b[0m\n\u001b[1;32m    207\u001b[0m     \u001b[0;34m@\u001b[0m\u001b[0mproxy\u001b[0m\u001b[0;34m.\u001b[0m\u001b[0m_check_resource\u001b[0m\u001b[0;34m(\u001b[0m\u001b[0mstrict\u001b[0m\u001b[0;34m=\u001b[0m\u001b[0;32mFalse\u001b[0m\u001b[0;34m)\u001b[0m\u001b[0;34m\u001b[0m\u001b[0;34m\u001b[0m\u001b[0m\n",
      "\u001b[0;32m/opt/conda/lib/python3.10/site-packages/openstack/resource.py\u001b[0m in \u001b[0;36mcommit\u001b[0;34m(self, session, prepend_key, has_body, retry_on_conflict, base_path, microversion, **kwargs)\u001b[0m\n\u001b[1;32m   1794\u001b[0m             \u001b[0mmicroversion\u001b[0m \u001b[0;34m=\u001b[0m \u001b[0mself\u001b[0m\u001b[0;34m.\u001b[0m\u001b[0m_get_microversion\u001b[0m\u001b[0;34m(\u001b[0m\u001b[0msession\u001b[0m\u001b[0;34m,\u001b[0m \u001b[0maction\u001b[0m\u001b[0;34m=\u001b[0m\u001b[0;34m'commit'\u001b[0m\u001b[0;34m)\u001b[0m\u001b[0;34m\u001b[0m\u001b[0;34m\u001b[0m\u001b[0m\n\u001b[1;32m   1795\u001b[0m \u001b[0;34m\u001b[0m\u001b[0m\n\u001b[0;32m-> 1796\u001b[0;31m         return self._commit(\n\u001b[0m\u001b[1;32m   1797\u001b[0m             \u001b[0msession\u001b[0m\u001b[0;34m,\u001b[0m\u001b[0;34m\u001b[0m\u001b[0;34m\u001b[0m\u001b[0m\n\u001b[1;32m   1798\u001b[0m             \u001b[0mrequest\u001b[0m\u001b[0;34m,\u001b[0m\u001b[0;34m\u001b[0m\u001b[0;34m\u001b[0m\u001b[0m\n",
      "\u001b[0;32m/opt/conda/lib/python3.10/site-packages/openstack/resource.py\u001b[0m in \u001b[0;36m_commit\u001b[0;34m(self, session, request, method, microversion, has_body, retry_on_conflict)\u001b[0m\n\u001b[1;32m   1839\u001b[0m \u001b[0;34m\u001b[0m\u001b[0m\n\u001b[1;32m   1840\u001b[0m         \u001b[0mself\u001b[0m\u001b[0;34m.\u001b[0m\u001b[0mmicroversion\u001b[0m \u001b[0;34m=\u001b[0m \u001b[0mmicroversion\u001b[0m\u001b[0;34m\u001b[0m\u001b[0;34m\u001b[0m\u001b[0m\n\u001b[0;32m-> 1841\u001b[0;31m         \u001b[0mself\u001b[0m\u001b[0;34m.\u001b[0m\u001b[0m_translate_response\u001b[0m\u001b[0;34m(\u001b[0m\u001b[0mresponse\u001b[0m\u001b[0;34m,\u001b[0m \u001b[0mhas_body\u001b[0m\u001b[0;34m=\u001b[0m\u001b[0mhas_body\u001b[0m\u001b[0;34m)\u001b[0m\u001b[0;34m\u001b[0m\u001b[0;34m\u001b[0m\u001b[0m\n\u001b[0m\u001b[1;32m   1842\u001b[0m \u001b[0;34m\u001b[0m\u001b[0m\n\u001b[1;32m   1843\u001b[0m         \u001b[0;32mreturn\u001b[0m \u001b[0mself\u001b[0m\u001b[0;34m\u001b[0m\u001b[0;34m\u001b[0m\u001b[0m\n",
      "\u001b[0;32m/opt/conda/lib/python3.10/site-packages/openstack/resource.py\u001b[0m in \u001b[0;36m_translate_response\u001b[0;34m(self, response, has_body, error_message, resource_response_key)\u001b[0m\n\u001b[1;32m   1278\u001b[0m             \u001b[0mhas_body\u001b[0m \u001b[0;34m=\u001b[0m \u001b[0mself\u001b[0m\u001b[0;34m.\u001b[0m\u001b[0mhas_body\u001b[0m\u001b[0;34m\u001b[0m\u001b[0;34m\u001b[0m\u001b[0m\n\u001b[1;32m   1279\u001b[0m \u001b[0;34m\u001b[0m\u001b[0m\n\u001b[0;32m-> 1280\u001b[0;31m         \u001b[0mexceptions\u001b[0m\u001b[0;34m.\u001b[0m\u001b[0mraise_from_response\u001b[0m\u001b[0;34m(\u001b[0m\u001b[0mresponse\u001b[0m\u001b[0;34m,\u001b[0m \u001b[0merror_message\u001b[0m\u001b[0;34m=\u001b[0m\u001b[0merror_message\u001b[0m\u001b[0;34m)\u001b[0m\u001b[0;34m\u001b[0m\u001b[0;34m\u001b[0m\u001b[0m\n\u001b[0m\u001b[1;32m   1281\u001b[0m \u001b[0;34m\u001b[0m\u001b[0m\n\u001b[1;32m   1282\u001b[0m         \u001b[0;32mif\u001b[0m \u001b[0mhas_body\u001b[0m\u001b[0;34m:\u001b[0m\u001b[0;34m\u001b[0m\u001b[0;34m\u001b[0m\u001b[0m\n",
      "\u001b[0;32m/opt/conda/lib/python3.10/site-packages/openstack/exceptions.py\u001b[0m in \u001b[0;36mraise_from_response\u001b[0;34m(response, error_message)\u001b[0m\n\u001b[1;32m    229\u001b[0m     \u001b[0mrequest_id\u001b[0m \u001b[0;34m=\u001b[0m \u001b[0mresponse\u001b[0m\u001b[0;34m.\u001b[0m\u001b[0mheaders\u001b[0m\u001b[0;34m.\u001b[0m\u001b[0mget\u001b[0m\u001b[0;34m(\u001b[0m\u001b[0;34m'x-openstack-request-id'\u001b[0m\u001b[0;34m)\u001b[0m\u001b[0;34m\u001b[0m\u001b[0;34m\u001b[0m\u001b[0m\n\u001b[1;32m    230\u001b[0m \u001b[0;34m\u001b[0m\u001b[0m\n\u001b[0;32m--> 231\u001b[0;31m     raise cls(\n\u001b[0m\u001b[1;32m    232\u001b[0m         \u001b[0mmessage\u001b[0m\u001b[0;34m=\u001b[0m\u001b[0merror_message\u001b[0m\u001b[0;34m,\u001b[0m\u001b[0;34m\u001b[0m\u001b[0;34m\u001b[0m\u001b[0m\n\u001b[1;32m    233\u001b[0m         \u001b[0mresponse\u001b[0m\u001b[0;34m=\u001b[0m\u001b[0mresponse\u001b[0m\u001b[0;34m,\u001b[0m\u001b[0;34m\u001b[0m\u001b[0;34m\u001b[0m\u001b[0m\n",
      "\u001b[0;31mBadRequestException\u001b[0m: BadRequestException: 400: Client Error for url: https://kvm.tacc.chameleoncloud.org:9696/v2.0/ports/25c0b592-8e77-4572-a115-1771aa00d5a7, Invalid input for security_groups. Reason: Duplicate items in the list: '8881b2ef-5558-4770-b4d8-5893e86486c0'."
     ]
    }
   ],
   "source": [
    "# we also need to enable incoming traffic on the HTTP port\n",
    "if not os_conn.get_security_group(\"Allow HTTP 8000\"):\n",
    "    os_conn.create_security_group(\"Allow HTTP 8000\", \"Enable HTTP traffic on TCP port 8000\")\n",
    "    os_conn.create_security_group_rule(\"Allow HTTP 8000\", port_range_min=8000, port_range_max=8000, protocol='tcp', remote_ip_prefix='0.0.0.0/0')\n",
    "\n",
    "# add existing security group\n",
    "security_group_id = os_conn.get_security_group(\"Allow HTTP 8000\").id\n",
    "for port in chi.network.list_ports(): \n",
    "    if port['port_security_enabled'] and port['network_id']==public_net.get(\"id\"):\n",
    "        pri_security_groups = port['security_groups']\n",
    "        pri_security_groups.append(security_group_id)\n",
    "        os_conn.network.update_port(port['id'], security_groups=pri_security_groups)"
   ]
  },
  {
   "cell_type": "markdown",
   "metadata": {},
   "source": [
    "### Draw the network topology"
   ]
  },
  {
   "cell_type": "markdown",
   "metadata": {},
   "source": [
    "The following cells will draw the network topology, for your reference."
   ]
  },
  {
   "cell_type": "code",
   "execution_count": 27,
   "metadata": {
    "tags": []
   },
   "outputs": [
    {
     "name": "stdout",
     "output_type": "stream",
     "text": [
      "Requirement already satisfied: networkx in /opt/conda/lib/python3.10/site-packages (3.4.2)\n"
     ]
    }
   ],
   "source": [
    "!pip install networkx"
   ]
  },
  {
   "cell_type": "code",
   "execution_count": 28,
   "metadata": {
    "tags": []
   },
   "outputs": [],
   "source": [
    "nodes = [ (n['name'], {'color': 'pink'}) for n in net_conf ] + [(n['name'], {'color': 'lightblue'}) for n in node_conf ]\n",
    "edges = [(net['name'], node['name'], \n",
    "          {'label': node['addr'] + '/' + net['subnet'].split(\"/\")[1] }) if node['addr'] else (net['name'], node['name']) for net in net_conf for node in net['nodes'] ]"
   ]
  },
  {
   "cell_type": "code",
   "execution_count": 29,
   "metadata": {
    "tags": []
   },
   "outputs": [
    {
     "data": {
      "image/png": "[encoded data removed]",
      "text/plain": [
       "<Figure size 400x400 with 1 Axes>"
      ]
     },
     "metadata": {},
     "output_type": "display_data"
    }
   ],
   "source": [
    "import networkx as nx\n",
    "import matplotlib.pyplot as plt\n",
    "plt.figure(figsize=(len(nodes),len(nodes)))\n",
    "G = nx.Graph()\n",
    "G.add_nodes_from(nodes)\n",
    "G.add_edges_from(edges)\n",
    "pos = nx.spring_layout(G)\n",
    "nx.draw(G, pos, node_shape='s',  \n",
    "        node_color=[n[1]['color'] for n in nodes], \n",
    "        node_size=[len(n[0])*400 for n in nodes],  \n",
    "        with_labels=True);\n",
    "nx.draw_networkx_edge_labels(G,pos,\n",
    "                             edge_labels=nx.get_edge_attributes(G,'label'),\n",
    "                             font_color='gray',  font_size=8, rotate=False);"
   ]
  },
  {
   "cell_type": "markdown",
   "metadata": {},
   "source": [
    "### Get SSH login details"
   ]
  },
  {
   "cell_type": "markdown",
   "metadata": {},
   "source": [
    "At this point, we should be able to log in to our “controller” node over SSH! Run the following cell, and observe the output - you will see an SSH command this node."
   ]
  },
  {
   "cell_type": "code",
   "execution_count": 30,
   "metadata": {
    "tags": []
   },
   "outputs": [
    {
     "name": "stdout",
     "output_type": "stream",
     "text": [
      "ssh cc@129.114.27.11\n"
     ]
    }
   ],
   "source": [
    "print(\"ssh cc@\" + server_ips[0])"
   ]
  },
  {
   "cell_type": "markdown",
   "metadata": {},
   "source": [
    "Now, you can open an SSH session as follows:\n",
    "\n",
    "-   In Jupyter, from the menu bar, use File \\> New \\> Terminal to open a new terminal.\n",
    "-   Copy the SSH command from the output above, and paste it into the terminal.\n",
    "\n",
    "Alternatively, you can use your local terminal to log on to each node, if you prefer. (On your local terminal, you may need to also specify your key path as part of the SSH command, using the `-i` argument followed by the path to your private key.)"
   ]
  },
  {
   "cell_type": "markdown",
   "metadata": {},
   "source": [
    "### Install packages on the tracking server (Node 0)\n",
    "\n",
    "\n",
    "We now install the packages required for for the mlflow tracking server to run on the bastion node."
   ]
  },
  {
   "cell_type": "code",
   "execution_count": 31,
   "metadata": {
    "tags": []
   },
   "outputs": [],
   "source": [
    "remote = chi.ssh.Remote(server_ips[0])"
   ]
  },
  {
   "cell_type": "code",
   "execution_count": 32,
   "metadata": {
    "collapsed": true,
    "jupyter": {
     "outputs_hidden": true
    },
    "tags": []
   },
   "outputs": [
    {
     "name": "stderr",
     "output_type": "stream",
     "text": [
      "/opt/conda/lib/python3.10/site-packages/paramiko/client.py:889: UserWarning: Unknown ssh-ed25519 host key for 129.114.27.11: b'82365d3d13f7c495e3d6095d6efafa70'\n",
      "  warnings.warn(\n"
     ]
    },
    {
     "name": "stdout",
     "output_type": "stream",
     "text": [
      "Defaulting to user installation because normal site-packages is not writeable\n",
      "Collecting scikit-learn\n",
      "  Downloading scikit_learn-1.6.1-cp310-cp310-manylinux_2_17_x86_64.manylinux2014_x86_64.whl (13.5 MB)\n",
      "     ━━━━━━━━━━━━━━━━━━━━━━━━━━━━━━━━━━━━━━━━ 13.5/13.5 MB 28.8 MB/s eta 0:00:00\n",
      "Collecting numpy>=1.19.5\n",
      "  Downloading numpy-2.2.1-cp310-cp310-manylinux_2_17_x86_64.manylinux2014_x86_64.whl (16.4 MB)\n",
      "     ━━━━━━━━━━━━━━━━━━━━━━━━━━━━━━━━━━━━━━━━ 16.4/16.4 MB 36.4 MB/s eta 0:00:00\n",
      "Collecting scipy>=1.6.0\n",
      "  Downloading scipy-1.15.1-cp310-cp310-manylinux_2_17_x86_64.manylinux2014_x86_64.whl (40.6 MB)\n",
      "     ━━━━━━━━━━━━━━━━━━━━━━━━━━━━━━━━━━━━━━━━ 40.6/40.6 MB 23.6 MB/s eta 0:00:00\n",
      "Collecting threadpoolctl>=3.1.0\n",
      "  Downloading threadpoolctl-3.5.0-py3-none-any.whl (18 kB)\n",
      "Collecting joblib>=1.2.0\n",
      "  Downloading joblib-1.4.2-py3-none-any.whl (301 kB)\n",
      "     ━━━━━━━━━━━━━━━━━━━━━━━━━━━━━━━━━━━━━━ 301.8/301.8 KB 21.5 MB/s eta 0:00:00\n",
      "Installing collected packages: threadpoolctl, numpy, joblib, scipy, scikit-learn\n"
     ]
    },
    {
     "name": "stderr",
     "output_type": "stream",
     "text": [
      "  WARNING: The scripts f2py and numpy-config are installed in '/home/cc/.local/bin' which is not on PATH.\n",
      "  Consider adding this directory to PATH or, if you prefer to suppress this warning, use --no-warn-script-location.\n"
     ]
    },
    {
     "name": "stdout",
     "output_type": "stream",
     "text": [
      "Successfully installed joblib-1.4.2 numpy-2.2.1 scikit-learn-1.6.1 scipy-1.15.1 threadpoolctl-3.5.0\n",
      "Defaulting to user installation because normal site-packages is not writeable\n",
      "Collecting mlflow\n",
      "  Downloading mlflow-2.19.0-py3-none-any.whl (27.4 MB)\n",
      "     ━━━━━━━━━━━━━━━━━━━━━━━━━━━━━━━━━━━━━━━━ 27.4/27.4 MB 25.0 MB/s eta 0:00:00\n",
      "Collecting psycopg2-binary\n",
      "  Downloading psycopg2_binary-2.9.10-cp310-cp310-manylinux_2_17_x86_64.manylinux2014_x86_64.whl (3.0 MB)\n",
      "     ━━━━━━━━━━━━━━━━━━━━━━━━━━━━━━━━━━━━━━━━ 3.0/3.0 MB 25.5 MB/s eta 0:00:00\n",
      "Collecting boto3\n",
      "  Downloading boto3-1.35.97-py3-none-any.whl (139 kB)\n",
      "     ━━━━━━━━━━━━━━━━━━━━━━━━━━━━━━━━━━━━━━ 139.2/139.2 KB 14.0 MB/s eta 0:00:00\n",
      "Requirement already satisfied: Jinja2<4,>=2.11 in /usr/lib/python3/dist-packages (from mlflow) (3.0.3)\n",
      "Collecting Flask<4\n",
      "  Downloading flask-3.1.0-py3-none-any.whl (102 kB)\n",
      "     ━━━━━━━━━━━━━━━━━━━━━━━━━━━━━━━━━━━━━━ 103.0/103.0 KB 13.9 MB/s eta 0:00:00\n",
      "Collecting pandas<3\n",
      "  Downloading pandas-2.2.3-cp310-cp310-manylinux_2_17_x86_64.manylinux2014_x86_64.whl (13.1 MB)\n",
      "     ━━━━━━━━━━━━━━━━━━━━━━━━━━━━━━━━━━━━━━━━ 13.1/13.1 MB 43.5 MB/s eta 0:00:00\n",
      "Collecting sqlalchemy<3,>=1.4.0\n",
      "  Downloading SQLAlchemy-2.0.37-cp310-cp310-manylinux_2_17_x86_64.manylinux2014_x86_64.whl (3.1 MB)\n",
      "     ━━━━━━━━━━━━━━━━━━━━━━━━━━━━━━━━━━━━━━━━ 3.1/3.1 MB 50.4 MB/s eta 0:00:00\n",
      "Collecting matplotlib<4\n",
      "  Downloading matplotlib-3.10.0-cp310-cp310-manylinux_2_17_x86_64.manylinux2014_x86_64.whl (8.6 MB)\n",
      "     ━━━━━━━━━━━━━━━━━━━━━━━━━━━━━━━━━━━━━━━━ 8.6/8.6 MB 46.1 MB/s eta 0:00:00\n",
      "Requirement already satisfied: numpy<3 in ./.local/lib/python3.10/site-packages (from mlflow) (2.2.1)\n",
      "Requirement already satisfied: scipy<2 in ./.local/lib/python3.10/site-packages (from mlflow) (1.15.1)\n",
      "Collecting pyarrow<19,>=4.0.0\n",
      "  Downloading pyarrow-18.1.0-cp310-cp310-manylinux_2_28_x86_64.whl (40.1 MB)\n",
      "     ━━━━━━━━━━━━━━━━━━━━━━━━━━━━━━━━━━━━━━━━ 40.1/40.1 MB 15.3 MB/s eta 0:00:00\n",
      "Collecting markdown<4,>=3.3\n",
      "  Downloading Markdown-3.7-py3-none-any.whl (106 kB)\n",
      "     ━━━━━━━━━━━━━━━━━━━━━━━━━━━━━━━━━━━━━━ 106.3/106.3 KB 13.3 MB/s eta 0:00:00\n",
      "Collecting gunicorn<24\n",
      "  Downloading gunicorn-23.0.0-py3-none-any.whl (85 kB)\n",
      "     ━━━━━━━━━━━━━━━━━━━━━━━━━━━━━━━━━━━━━━━━ 85.0/85.0 KB 10.7 MB/s eta 0:00:00\n",
      "Requirement already satisfied: scikit-learn<2 in ./.local/lib/python3.10/site-packages (from mlflow) (1.6.1)\n",
      "Collecting mlflow-skinny==2.19.0\n",
      "  Downloading mlflow_skinny-2.19.0-py3-none-any.whl (5.9 MB)\n",
      "     ━━━━━━━━━━━━━━━━━━━━━━━━━━━━━━━━━━━━━━━━ 5.9/5.9 MB 34.5 MB/s eta 0:00:00\n",
      "Collecting docker<8,>=4.0.0\n",
      "  Downloading docker-7.1.0-py3-none-any.whl (147 kB)\n",
      "     ━━━━━━━━━━━━━━━━━━━━━━━━━━━━━━━━━━━━━━ 147.8/147.8 KB 17.8 MB/s eta 0:00:00\n",
      "Collecting graphene<4\n",
      "  Downloading graphene-3.4.3-py2.py3-none-any.whl (114 kB)\n",
      "     ━━━━━━━━━━━━━━━━━━━━━━━━━━━━━━━━━━━━━━ 114.9/114.9 KB 13.7 MB/s eta 0:00:00\n",
      "Collecting alembic!=1.10.0,<2\n",
      "  Downloading alembic-1.14.0-py3-none-any.whl (233 kB)\n",
      "     ━━━━━━━━━━━━━━━━━━━━━━━━━━━━━━━━━━━━━━ 233.5/233.5 KB 21.8 MB/s eta 0:00:00\n",
      "Requirement already satisfied: requests<3,>=2.17.3 in /usr/lib/python3/dist-packages (from mlflow-skinny==2.19.0->mlflow) (2.25.1)\n",
      "Collecting sqlparse<1,>=0.4.0\n",
      "  Downloading sqlparse-0.5.3-py3-none-any.whl (44 kB)\n",
      "     ━━━━━━━━━━━━━━━━━━━━━━━━━━━━━━━━━━━━━━━━ 44.4/44.4 KB 5.5 MB/s eta 0:00:00\n",
      "Collecting opentelemetry-sdk<3,>=1.9.0\n",
      "  Downloading opentelemetry_sdk-1.29.0-py3-none-any.whl (118 kB)\n",
      "     ━━━━━━━━━━━━━━━━━━━━━━━━━━━━━━━━━━━━━━ 118.1/118.1 KB 13.9 MB/s eta 0:00:00\n",
      "Collecting protobuf<6,>=3.12.0\n",
      "  Downloading protobuf-5.29.3-cp38-abi3-manylinux2014_x86_64.whl (319 kB)\n",
      "     ━━━━━━━━━━━━━━━━━━━━━━━━━━━━━━━━━━━━━━━ 319.7/319.7 KB 1.9 MB/s eta 0:00:00\n",
      "Collecting packaging<25\n",
      "  Downloading packaging-24.2-py3-none-any.whl (65 kB)\n",
      "     ━━━━━━━━━━━━━━━━━━━━━━━━━━━━━━━━━━━━━━━━ 65.5/65.5 KB 7.6 MB/s eta 0:00:00\n",
      "Collecting opentelemetry-api<3,>=1.9.0\n",
      "  Downloading opentelemetry_api-1.29.0-py3-none-any.whl (64 kB)\n",
      "     ━━━━━━━━━━━━━━━━━━━━━━━━━━━━━━━━━━━━━━━━ 64.3/64.3 KB 8.4 MB/s eta 0:00:00\n",
      "Requirement already satisfied: pyyaml<7,>=5.1 in /usr/lib/python3/dist-packages (from mlflow-skinny==2.19.0->mlflow) (5.4.1)\n",
      "Requirement already satisfied: click<9,>=7.0 in /usr/lib/python3/dist-packages (from mlflow-skinny==2.19.0->mlflow) (8.0.3)\n",
      "Collecting cloudpickle<4\n",
      "  Downloading cloudpickle-3.1.0-py3-none-any.whl (22 kB)\n",
      "Collecting databricks-sdk<1,>=0.20.0\n",
      "  Downloading databricks_sdk-0.40.0-py3-none-any.whl (629 kB)\n",
      "     ━━━━━━━━━━━━━━━━━━━━━━━━━━━━━━━━━━━━━━ 629.7/629.7 KB 40.5 MB/s eta 0:00:00\n",
      "Requirement already satisfied: importlib_metadata!=4.7.0,<9,>=3.7.0 in /usr/lib/python3/dist-packages (from mlflow-skinny==2.19.0->mlflow) (4.6.4)\n",
      "Collecting cachetools<6,>=5.0.0\n",
      "  Downloading cachetools-5.5.0-py3-none-any.whl (9.5 kB)\n",
      "Collecting gitpython<4,>=3.1.9\n",
      "  Downloading GitPython-3.1.44-py3-none-any.whl (207 kB)\n",
      "     ━━━━━━━━━━━━━━━━━━━━━━━━━━━━━━━━━━━━━━ 207.6/207.6 KB 21.4 MB/s eta 0:00:00\n",
      "Collecting s3transfer<0.11.0,>=0.10.0\n",
      "  Downloading s3transfer-0.10.4-py3-none-any.whl (83 kB)\n",
      "     ━━━━━━━━━━━━━━━━━━━━━━━━━━━━━━━━━━━━━━━━ 83.2/83.2 KB 10.4 MB/s eta 0:00:00\n",
      "Collecting botocore<1.36.0,>=1.35.97\n",
      "  Downloading botocore-1.35.97-py3-none-any.whl (13.3 MB)\n",
      "     ━━━━━━━━━━━━━━━━━━━━━━━━━━━━━━━━━━━━━━━━ 13.3/13.3 MB 46.4 MB/s eta 0:00:00\n",
      "Collecting jmespath<2.0.0,>=0.7.1\n",
      "  Downloading jmespath-1.0.1-py3-none-any.whl (20 kB)\n",
      "Collecting typing-extensions>=4\n",
      "  Downloading typing_extensions-4.12.2-py3-none-any.whl (37 kB)\n",
      "Collecting Mako\n",
      "  Downloading Mako-1.3.8-py3-none-any.whl (78 kB)\n",
      "     ━━━━━━━━━━━━━━━━━━━━━━━━━━━━━━━━━━━━━━━━ 78.6/78.6 KB 9.6 MB/s eta 0:00:00\n",
      "Requirement already satisfied: urllib3!=2.2.0,<3,>=1.25.4 in /usr/lib/python3/dist-packages (from botocore<1.36.0,>=1.35.97->boto3) (1.26.5)\n",
      "Collecting python-dateutil<3.0.0,>=2.1\n",
      "  Downloading python_dateutil-2.9.0.post0-py2.py3-none-any.whl (229 kB)\n",
      "     ━━━━━━━━━━━━━━━━━━━━━━━━━━━━━━━━━━━━━━ 229.9/229.9 KB 23.0 MB/s eta 0:00:00\n",
      "Collecting requests<3,>=2.17.3\n",
      "  Downloading requests-2.32.3-py3-none-any.whl (64 kB)\n",
      "     ━━━━━━━━━━━━━━━━━━━━━━━━━━━━━━━━━━━━━━━━ 64.9/64.9 KB 7.9 MB/s eta 0:00:00\n",
      "Collecting click<9,>=7.0\n",
      "  Downloading click-8.1.8-py3-none-any.whl (98 kB)\n",
      "     ━━━━━━━━━━━━━━━━━━━━━━━━━━━━━━━━━━━━━━━━ 98.2/98.2 KB 14.1 MB/s eta 0:00:00\n",
      "Collecting Jinja2<4,>=2.11\n",
      "  Downloading jinja2-3.1.5-py3-none-any.whl (134 kB)\n",
      "     ━━━━━━━━━━━━━━━━━━━━━━━━━━━━━━━━━━━━━━ 134.6/134.6 KB 17.6 MB/s eta 0:00:00\n",
      "Collecting itsdangerous>=2.2\n",
      "  Downloading itsdangerous-2.2.0-py3-none-any.whl (16 kB)\n",
      "Collecting Werkzeug>=3.1\n",
      "  Downloading werkzeug-3.1.3-py3-none-any.whl (224 kB)\n",
      "     ━━━━━━━━━━━━━━━━━━━━━━━━━━━━━━━━━━━━━━ 224.5/224.5 KB 23.6 MB/s eta 0:00:00\n",
      "Collecting blinker>=1.9\n",
      "  Downloading blinker-1.9.0-py3-none-any.whl (8.5 kB)\n",
      "Collecting graphql-core<3.3,>=3.1\n",
      "  Downloading graphql_core-3.2.5-py3-none-any.whl (203 kB)\n",
      "     ━━━━━━━━━━━━━━━━━━━━━━━━━━━━━━━━━━━━━━ 203.2/203.2 KB 23.2 MB/s eta 0:00:00\n",
      "Collecting graphql-relay<3.3,>=3.1\n",
      "  Downloading graphql_relay-3.2.0-py3-none-any.whl (16 kB)\n",
      "Requirement already satisfied: MarkupSafe>=2.0 in /usr/lib/python3/dist-packages (from Jinja2<4,>=2.11->mlflow) (2.0.1)\n",
      "Requirement already satisfied: pyparsing>=2.3.1 in /usr/lib/python3/dist-packages (from matplotlib<4->mlflow) (2.4.7)\n",
      "Collecting fonttools>=4.22.0\n",
      "  Downloading fonttools-4.55.3-cp310-cp310-manylinux_2_17_x86_64.manylinux2014_x86_64.whl (4.6 MB)\n",
      "     ━━━━━━━━━━━━━━━━━━━━━━━━━━━━━━━━━━━━━━━━ 4.6/4.6 MB 24.1 MB/s eta 0:00:00\n",
      "Collecting pillow>=8\n",
      "  Downloading pillow-11.1.0-cp310-cp310-manylinux_2_28_x86_64.whl (4.5 MB)\n",
      "     ━━━━━━━━━━━━━━━━━━━━━━━━━━━━━━━━━━━━━━━━ 4.5/4.5 MB 32.9 MB/s eta 0:00:00\n",
      "Collecting cycler>=0.10\n",
      "  Downloading cycler-0.12.1-py3-none-any.whl (8.3 kB)\n",
      "Collecting kiwisolver>=1.3.1\n",
      "  Downloading kiwisolver-1.4.8-cp310-cp310-manylinux_2_12_x86_64.manylinux2010_x86_64.whl (1.6 MB)\n",
      "     ━━━━━━━━━━━━━━━━━━━━━━━━━━━━━━━━━━━━━━━━ 1.6/1.6 MB 54.9 MB/s eta 0:00:00\n",
      "Collecting contourpy>=1.0.1\n",
      "  Downloading contourpy-1.3.1-cp310-cp310-manylinux_2_17_x86_64.manylinux2014_x86_64.whl (324 kB)\n",
      "     ━━━━━━━━━━━━━━━━━━━━━━━━━━━━━━━━━━━━━━ 325.0/325.0 KB 29.6 MB/s eta 0:00:00\n",
      "Collecting tzdata>=2022.7\n",
      "  Downloading tzdata-2024.2-py2.py3-none-any.whl (346 kB)\n",
      "     ━━━━━━━━━━━━━━━━━━━━━━━━━━━━━━━━━━━━━━ 346.6/346.6 KB 29.3 MB/s eta 0:00:00\n",
      "Requirement already satisfied: pytz>=2020.1 in /usr/lib/python3/dist-packages (from pandas<3->mlflow) (2022.1)\n",
      "Requirement already satisfied: threadpoolctl>=3.1.0 in ./.local/lib/python3.10/site-packages (from scikit-learn<2->mlflow) (3.5.0)\n",
      "Requirement already satisfied: joblib>=1.2.0 in ./.local/lib/python3.10/site-packages (from scikit-learn<2->mlflow) (1.4.2)\n",
      "Collecting greenlet!=0.4.17\n",
      "  Downloading greenlet-3.1.1-cp310-cp310-manylinux_2_24_x86_64.manylinux_2_28_x86_64.whl (599 kB)\n",
      "     ━━━━━━━━━━━━━━━━━━━━━━━━━━━━━━━━━━━━━━ 599.5/599.5 KB 34.1 MB/s eta 0:00:00\n",
      "Collecting google-auth~=2.0\n",
      "  Downloading google_auth-2.37.0-py2.py3-none-any.whl (209 kB)\n",
      "     ━━━━━━━━━━━━━━━━━━━━━━━━━━━━━━━━━━━━━━ 209.8/209.8 KB 24.4 MB/s eta 0:00:00\n",
      "Collecting gitdb<5,>=4.0.1\n",
      "  Downloading gitdb-4.0.12-py3-none-any.whl (62 kB)\n",
      "     ━━━━━━━━━━━━━━━━━━━━━━━━━━━━━━━━━━━━━━━━ 62.8/62.8 KB 4.2 MB/s eta 0:00:00\n",
      "Collecting importlib_metadata!=4.7.0,<9,>=3.7.0\n",
      "  Downloading importlib_metadata-8.5.0-py3-none-any.whl (26 kB)\n",
      "Collecting deprecated>=1.2.6\n",
      "  Downloading Deprecated-1.2.15-py2.py3-none-any.whl (9.9 kB)\n",
      "Collecting zipp>=3.20\n",
      "  Downloading zipp-3.21.0-py3-none-any.whl (9.6 kB)\n",
      "Collecting opentelemetry-semantic-conventions==0.50b0\n",
      "  Downloading opentelemetry_semantic_conventions-0.50b0-py3-none-any.whl (166 kB)\n",
      "     ━━━━━━━━━━━━━━━━━━━━━━━━━━━━━━━━━━━━━━ 166.6/166.6 KB 17.9 MB/s eta 0:00:00\n",
      "Requirement already satisfied: six>=1.5 in /usr/lib/python3/dist-packages (from python-dateutil<3.0.0,>=2.1->botocore<1.36.0,>=1.35.97->boto3) (1.16.0)\n",
      "Collecting charset-normalizer<4,>=2\n",
      "  Downloading charset_normalizer-3.4.1-cp310-cp310-manylinux_2_17_x86_64.manylinux2014_x86_64.whl (146 kB)\n",
      "     ━━━━━━━━━━━━━━━━━━━━━━━━━━━━━━━━━━━━━━ 146.1/146.1 KB 15.3 MB/s eta 0:00:00\n",
      "Requirement already satisfied: certifi>=2017.4.17 in /usr/lib/python3/dist-packages (from requests<3,>=2.17.3->mlflow-skinny==2.19.0->mlflow) (2020.6.20)\n",
      "Requirement already satisfied: idna<4,>=2.5 in /usr/lib/python3/dist-packages (from requests<3,>=2.17.3->mlflow-skinny==2.19.0->mlflow) (3.3)\n",
      "Collecting MarkupSafe>=2.0\n",
      "  Downloading MarkupSafe-3.0.2-cp310-cp310-manylinux_2_17_x86_64.manylinux2014_x86_64.whl (20 kB)\n",
      "Collecting wrapt<2,>=1.10\n",
      "  Downloading wrapt-1.17.1-cp310-cp310-manylinux_2_5_x86_64.manylinux1_x86_64.manylinux_2_17_x86_64.manylinux2014_x86_64.whl (82 kB)\n",
      "     ━━━━━━━━━━━━━━━━━━━━━━━━━━━━━━━━━━━━━━━━ 82.8/82.8 KB 9.1 MB/s eta 0:00:00\n",
      "Collecting smmap<6,>=3.0.1\n",
      "  Downloading smmap-5.0.2-py3-none-any.whl (24 kB)\n",
      "Requirement already satisfied: pyasn1-modules>=0.2.1 in /usr/lib/python3/dist-packages (from google-auth~=2.0->databricks-sdk<1,>=0.20.0->mlflow-skinny==2.19.0->mlflow) (0.2.1)\n",
      "Collecting rsa<5,>=3.1.4\n",
      "  Downloading rsa-4.9-py3-none-any.whl (34 kB)\n",
      "Requirement already satisfied: pyasn1>=0.1.3 in /usr/lib/python3/dist-packages (from rsa<5,>=3.1.4->google-auth~=2.0->databricks-sdk<1,>=0.20.0->mlflow-skinny==2.19.0->mlflow) (0.4.8)\n",
      "Installing collected packages: zipp, wrapt, tzdata, typing-extensions, sqlparse, smmap, rsa, python-dateutil, pyarrow, psycopg2-binary, protobuf, pillow, packaging, MarkupSafe, markdown, kiwisolver, jmespath, itsdangerous, greenlet, graphql-core, fonttools, cycler, contourpy, cloudpickle, click, charset-normalizer, cachetools, blinker, Werkzeug, sqlalchemy, requests, pandas, matplotlib, Mako, Jinja2, importlib_metadata, gunicorn, graphql-relay, google-auth, gitdb, deprecated, botocore, s3transfer, opentelemetry-api, graphene, gitpython, Flask, docker, databricks-sdk, alembic, opentelemetry-semantic-conventions, boto3, opentelemetry-sdk, mlflow-skinny, mlflow\n"
     ]
    },
    {
     "name": "stderr",
     "output_type": "stream",
     "text": [
      "  WARNING: The script sqlformat is installed in '/home/cc/.local/bin' which is not on PATH.\n",
      "  Consider adding this directory to PATH or, if you prefer to suppress this warning, use --no-warn-script-location.\n",
      "  WARNING: The scripts pyrsa-decrypt, pyrsa-encrypt, pyrsa-keygen, pyrsa-priv2pub, pyrsa-sign and pyrsa-verify are installed in '/home/cc/.local/bin' which is not on PATH.\n",
      "  Consider adding this directory to PATH or, if you prefer to suppress this warning, use --no-warn-script-location.\n",
      "  WARNING: The script markdown_py is installed in '/home/cc/.local/bin' which is not on PATH.\n",
      "  Consider adding this directory to PATH or, if you prefer to suppress this warning, use --no-warn-script-location.\n",
      "  WARNING: The scripts fonttools, pyftmerge, pyftsubset and ttx are installed in '/home/cc/.local/bin' which is not on PATH.\n",
      "  Consider adding this directory to PATH or, if you prefer to suppress this warning, use --no-warn-script-location.\n",
      "  WARNING: The script normalizer is installed in '/home/cc/.local/bin' which is not on PATH.\n",
      "  Consider adding this directory to PATH or, if you prefer to suppress this warning, use --no-warn-script-location.\n",
      "  WARNING: The script mako-render is installed in '/home/cc/.local/bin' which is not on PATH.\n",
      "  Consider adding this directory to PATH or, if you prefer to suppress this warning, use --no-warn-script-location.\n",
      "  WARNING: The script gunicorn is installed in '/home/cc/.local/bin' which is not on PATH.\n",
      "  Consider adding this directory to PATH or, if you prefer to suppress this warning, use --no-warn-script-location.\n",
      "  WARNING: The script flask is installed in '/home/cc/.local/bin' which is not on PATH.\n",
      "  Consider adding this directory to PATH or, if you prefer to suppress this warning, use --no-warn-script-location.\n",
      "  WARNING: The script alembic is installed in '/home/cc/.local/bin' which is not on PATH.\n",
      "  Consider adding this directory to PATH or, if you prefer to suppress this warning, use --no-warn-script-location.\n",
      "  WARNING: The script mlflow is installed in '/home/cc/.local/bin' which is not on PATH.\n",
      "  Consider adding this directory to PATH or, if you prefer to suppress this warning, use --no-warn-script-location.\n",
      "  WARNING: The script mlflow is installed in '/home/cc/.local/bin' which is not on PATH.\n",
      "  Consider adding this directory to PATH or, if you prefer to suppress this warning, use --no-warn-script-location.\n"
     ]
    },
    {
     "name": "stdout",
     "output_type": "stream",
     "text": [
      "Successfully installed Flask-3.1.0 Jinja2-3.1.5 Mako-1.3.8 MarkupSafe-3.0.2 Werkzeug-3.1.3 alembic-1.14.0 blinker-1.9.0 boto3-1.35.97 botocore-1.35.97 cachetools-5.5.0 charset-normalizer-3.4.1 click-8.1.8 cloudpickle-3.1.0 contourpy-1.3.1 cycler-0.12.1 databricks-sdk-0.40.0 deprecated-1.2.15 docker-7.1.0 fonttools-4.55.3 gitdb-4.0.12 gitpython-3.1.44 google-auth-2.37.0 graphene-3.4.3 graphql-core-3.2.5 graphql-relay-3.2.0 greenlet-3.1.1 gunicorn-23.0.0 importlib_metadata-8.5.0 itsdangerous-2.2.0 jmespath-1.0.1 kiwisolver-1.4.8 markdown-3.7 matplotlib-3.10.0 mlflow-2.19.0 mlflow-skinny-2.19.0 opentelemetry-api-1.29.0 opentelemetry-sdk-1.29.0 opentelemetry-semantic-conventions-0.50b0 packaging-24.2 pandas-2.2.3 pillow-11.1.0 protobuf-5.29.3 psycopg2-binary-2.9.10 pyarrow-18.1.0 python-dateutil-2.9.0.post0 requests-2.32.3 rsa-4.9 s3transfer-0.10.4 smmap-5.0.2 sqlalchemy-2.0.37 sqlparse-0.5.3 typing-extensions-4.12.2 tzdata-2024.2 wrapt-1.17.1 zipp-3.21.0\n"
     ]
    },
    {
     "data": {
      "text/plain": [
       "<Result cmd='pip install mlflow psycopg2-binary boto3' exited=0>"
      ]
     },
     "execution_count": 32,
     "metadata": {},
     "output_type": "execute_result"
    }
   ],
   "source": [
    "remote.run(\"pip install scikit-learn;\")\n",
    "remote.run(\"pip install mlflow psycopg2-binary boto3\")"
   ]
  }
 ],
 "metadata": {
  "kernelspec": {
   "display_name": "Python 3 (ipykernel)",
   "language": "python",
   "name": "python3"
  },
  "language_info": {
   "codemirror_mode": {
    "name": "ipython",
    "version": 3
   },
   "file_extension": ".py",
   "mimetype": "text/x-python",
   "name": "python",
   "nbconvert_exporter": "python",
   "pygments_lexer": "ipython3",
   "version": "3.10.9"
  }
 },
 "nbformat": 4,
 "nbformat_minor": 4
}
